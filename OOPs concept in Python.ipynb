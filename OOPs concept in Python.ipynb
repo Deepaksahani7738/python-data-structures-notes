{
 "cells": [
  {
   "cell_type": "markdown",
   "id": "87ceb886",
   "metadata": {},
   "source": [
    "# OOPs Concept in Python"
   ]
  },
  {
   "cell_type": "code",
   "execution_count": 24,
   "id": "725e7165",
   "metadata": {},
   "outputs": [
    {
     "name": "stdout",
     "output_type": "stream",
     "text": [
      "empl name is: Deepak\n",
      "empl age is : 23\n",
      "emp designation is : python developer\n"
     ]
    }
   ],
   "source": [
    "class emp:\n",
    "    def __init__(self,name,age,designation):\n",
    "        self.name=name\n",
    "        self.age=age\n",
    "        self.designation=designation\n",
    "    def display_data(self):\n",
    "        print(f\"empl name is: {self.name}\")\n",
    "        print(f\"empl age is : {self.age}\")\n",
    "        print(f\"emp designation is : {self.designation}\")\n",
    "data=emp(\"Deepak\",23,\"python developer\")\n",
    "data.display_data()\n",
    "    "
   ]
  },
  {
   "cell_type": "code",
   "execution_count": 6,
   "id": "f627a61b",
   "metadata": {},
   "outputs": [
    {
     "name": "stdout",
     "output_type": "stream",
     "text": [
      "he is name is :raj \n",
      "he is address is :kandivali\n",
      "he is mobile_no is 7766885599\n",
      "he is city is : mumbai\n"
     ]
    }
   ],
   "source": [
    "class mydata:\n",
    "    def __init__(self,name,address,mobile_no,city):\n",
    "        self.name=name\n",
    "        self.address=address\n",
    "        self.mobile_no=mobile_no\n",
    "        self.city=city\n",
    "    def display_data(self):\n",
    "        print(f\"he is name is :{self.name} \")\n",
    "        print(f\"he is address is :{self.address}\")\n",
    "        print(f\"he is mobile_no is {self.mobile_no}\")\n",
    "        print(f\"he is city is : {self.city}\")\n",
    "a=mydata(\"raj\",\"kandivali\",7766885599,\"mumbai\")\n",
    "a.display_data()"
   ]
  },
  {
   "cell_type": "code",
   "execution_count": 7,
   "id": "4bf75b10",
   "metadata": {},
   "outputs": [
    {
     "data": {
      "text/plain": [
       "'raj'"
      ]
     },
     "execution_count": 7,
     "metadata": {},
     "output_type": "execute_result"
    }
   ],
   "source": [
    "a.name"
   ]
  },
  {
   "cell_type": "code",
   "execution_count": 8,
   "id": "f7ad1949",
   "metadata": {},
   "outputs": [
    {
     "data": {
      "text/plain": [
       "7766885599"
      ]
     },
     "execution_count": 8,
     "metadata": {},
     "output_type": "execute_result"
    }
   ],
   "source": [
    "a.mobile_no"
   ]
  },
  {
   "cell_type": "code",
   "execution_count": 10,
   "id": "65979e9e",
   "metadata": {},
   "outputs": [
    {
     "data": {
      "text/plain": [
       "'mumbai'"
      ]
     },
     "execution_count": 10,
     "metadata": {},
     "output_type": "execute_result"
    }
   ],
   "source": [
    "a.city"
   ]
  },
  {
   "cell_type": "code",
   "execution_count": 11,
   "id": "959b8f6e",
   "metadata": {},
   "outputs": [
    {
     "data": {
      "text/plain": [
       "'kandivali'"
      ]
     },
     "execution_count": 11,
     "metadata": {},
     "output_type": "execute_result"
    }
   ],
   "source": [
    "a.address"
   ]
  },
  {
   "cell_type": "code",
   "execution_count": 29,
   "id": "5f5142db",
   "metadata": {},
   "outputs": [
    {
     "name": "stdout",
     "output_type": "stream",
     "text": [
      "he is designation is : python developer\n",
      "a 10\n",
      "b 20\n"
     ]
    }
   ],
   "source": [
    "class new_data:\n",
    "    def __init__(self,designation):\n",
    "        self.designation=designation\n",
    "    def say_hello(self):\n",
    "        print(f\"he is designation is : {self.designation}\")\n",
    "e1=new_data(\"python developer\")\n",
    "e1.say_hello()"
   ]
  },
  {
   "cell_type": "code",
   "execution_count": 13,
   "id": "1b06e76d",
   "metadata": {},
   "outputs": [
    {
     "data": {
      "text/plain": [
       "'python developer'"
      ]
     },
     "execution_count": 13,
     "metadata": {},
     "output_type": "execute_result"
    }
   ],
   "source": [
    "e1.designation"
   ]
  },
  {
   "cell_type": "code",
   "execution_count": 30,
   "id": "5d96a778",
   "metadata": {},
   "outputs": [
    {
     "name": "stdout",
     "output_type": "stream",
     "text": [
      "a 10\n",
      "b 20\n"
     ]
    }
   ],
   "source": [
    "def mydata(**kwags):\n",
    "    for k,v in kwags.items():\n",
    "            print(k,v)\n",
    "a={\"a\":10,\"b\":20}\n",
    "mydata(**a)"
   ]
  },
  {
   "cell_type": "code",
   "execution_count": 7,
   "id": "ae1b66e0",
   "metadata": {},
   "outputs": [
    {
     "name": "stdout",
     "output_type": "stream",
     "text": [
      "karan\n",
      "25\n",
      "full stack developer\n",
      "cricket\n"
     ]
    }
   ],
   "source": [
    "class data:\n",
    "    def __init__(self,name,age,designation,hobbies):\n",
    "        self.name=name\n",
    "        self.age=age\n",
    "        self.designation=designation\n",
    "        self.hobbies=hobbies\n",
    "    def display_info(self):\n",
    "        print(self.name)\n",
    "        print(self.age)\n",
    "        print(self.designation)\n",
    "        print(self.hobbies)\n",
    "a=data(\"karan\",25,\"full stack developer\",\"cricket\")\n",
    "a.display_info()    "
   ]
  },
  {
   "cell_type": "code",
   "execution_count": 13,
   "id": "b1428627",
   "metadata": {},
   "outputs": [
    {
     "data": {
      "text/plain": [
       "'karan'"
      ]
     },
     "execution_count": 13,
     "metadata": {},
     "output_type": "execute_result"
    }
   ],
   "source": [
    "a.name"
   ]
  },
  {
   "cell_type": "markdown",
   "id": "fbd3ff63",
   "metadata": {},
   "source": [
    "# Constructor: Constructor are just a special type of method. It is called automatically during object creation of a class.Constructors are used generally to initializing the value."
   ]
  },
  {
   "cell_type": "code",
   "execution_count": 15,
   "id": "a343c297",
   "metadata": {},
   "outputs": [
    {
     "name": "stdout",
     "output_type": "stream",
     "text": [
      "a 100\n",
      "b 200\n",
      "c 300\n",
      "d 400\n",
      "e 500\n",
      "('aryan', 'manisha', 'mamata', 'shiv', 'nita')\n",
      "employee name is : arjun\n",
      "employee contact_no is : 77886688\n",
      "employee ctc is :  12000\n"
     ]
    }
   ],
   "source": [
    "class contact:\n",
    "    def __init__(self,name,contact,ctc):\n",
    "        self.name=name\n",
    "        self.contact=contact\n",
    "        self.ctc=ctc\n",
    "    def mydata(self):\n",
    "        print(\"employee name is :\",self.name)\n",
    "        print(\"employee contact_no is :\",self.contact)\n",
    "        print(\"employee ctc is : \",self.ctc)\n",
    "    def data(**kwags):\n",
    "        for k,v in kwags.items():\n",
    "            print(k,v)\n",
    "    a={\"a\":100,\"b\":200,\"c\":300,\"d\":400,\"e\":500}\n",
    "    data(**a)\n",
    "    def developer(*args):\n",
    "        print(args)\n",
    "    b=[\"aryan\",\"manisha\",\"mamata\",\"shiv\",\"nita\"]\n",
    "    developer(*b)\n",
    "res=contact(\"arjun\",77886688,12000)\n",
    "res.mydata()    "
   ]
  },
  {
   "cell_type": "markdown",
   "id": "1b7f3f50",
   "metadata": {},
   "source": [
    "# Python function"
   ]
  },
  {
   "cell_type": "markdown",
   "id": "97e8a860",
   "metadata": {},
   "source": [
    "## A function is a block of code which only runs when it is called.You can pass data, known as parameters. "
   ]
  },
  {
   "cell_type": "code",
   "execution_count": 16,
   "id": "139742e8",
   "metadata": {},
   "outputs": [
    {
     "data": {
      "text/plain": [
       "'nitara'"
      ]
     },
     "execution_count": 16,
     "metadata": {},
     "output_type": "execute_result"
    }
   ],
   "source": [
    "def mydata():\n",
    "    name=\"nitara\"\n",
    "    return name\n",
    "mydata()"
   ]
  },
  {
   "cell_type": "markdown",
   "id": "aa10fd8a",
   "metadata": {},
   "source": [
    "# Creating a Function:\n",
    "## In Python a function is defined using the def keyword:"
   ]
  },
  {
   "cell_type": "code",
   "execution_count": 19,
   "id": "53477ed9",
   "metadata": {},
   "outputs": [
    {
     "name": "stdout",
     "output_type": "stream",
     "text": [
      "Deepak\n",
      "mumbai\n"
     ]
    }
   ],
   "source": [
    "city=\"mumbai\" #global variable\n",
    "def data():\n",
    "    name=\"Deepak\" #local variable\n",
    "    print(name)\n",
    "    print(city)\n",
    "data()"
   ]
  },
  {
   "cell_type": "code",
   "execution_count": 21,
   "id": "61162801",
   "metadata": {},
   "outputs": [
    {
     "data": {
      "text/plain": [
       "200"
      ]
     },
     "execution_count": 21,
     "metadata": {},
     "output_type": "execute_result"
    }
   ],
   "source": [
    "def data_info(a,b):\n",
    "    return a*b\n",
    "data_info(10,20)"
   ]
  },
  {
   "cell_type": "code",
   "execution_count": 24,
   "id": "be9fd3ca",
   "metadata": {},
   "outputs": [
    {
     "name": "stdout",
     "output_type": "stream",
     "text": [
      "230\n"
     ]
    }
   ],
   "source": [
    "def mysequence(a,b,c):\n",
    "    print(a*b+c)\n",
    "mysequence(10,20,30)"
   ]
  },
  {
   "cell_type": "code",
   "execution_count": 30,
   "id": "23a1ee5d",
   "metadata": {},
   "outputs": [
    {
     "name": "stdout",
     "output_type": "stream",
     "text": [
      "(10, 20, 30, 44, 55, 66)\n"
     ]
    }
   ],
   "source": [
    "def devel_data(*num):\n",
    "    print(num)\n",
    "a=[10,20,30]\n",
    "b=[44,55,66]\n",
    "a.extend(b)\n",
    "devel_data(*a)"
   ]
  },
  {
   "cell_type": "code",
   "execution_count": 45,
   "id": "80a09bd2",
   "metadata": {},
   "outputs": [
    {
     "name": "stdout",
     "output_type": "stream",
     "text": [
      "(10, 20, 30, 40, 50, 1, 2, 3, 4, 5, 6, 7, 8, 'a', 'b', 'c', 'd', 'e')\n",
      "a 10\n",
      "b 20\n"
     ]
    }
   ],
   "source": [
    "def set_data(*data):\n",
    "    print(data)\n",
    "#     for x in data:\n",
    "#         print(x)\n",
    "a=[10,20,30,40,50]\n",
    "b={1,2,3,4,5,6,7,8}\n",
    "c=(\"a\",\"b\",\"c\",\"d\",\"e\")\n",
    "set_data(*a,*b,*c)\n",
    "\n",
    "def lst_data(**dicts):\n",
    "    for x,y in dicts.items():\n",
    "        print(x,y)\n",
    "s={\"a\":10,\"b\":20}\n",
    "lst_data(**s)"
   ]
  },
  {
   "cell_type": "code",
   "execution_count": 2,
   "id": "e577753d",
   "metadata": {},
   "outputs": [
    {
     "name": "stdout",
     "output_type": "stream",
     "text": [
      "he is name is: shiv\n"
     ]
    }
   ],
   "source": [
    "class const:\n",
    "    def __init__(self,name):\n",
    "        self.name=name\n",
    "    def display_data(self):\n",
    "        print(f\"he is name is: {self.name}\")\n",
    "a=const(\"shiv\")\n",
    "a.display_data()\n",
    "    "
   ]
  },
  {
   "cell_type": "code",
   "execution_count": 3,
   "id": "b1abefb6",
   "metadata": {},
   "outputs": [
    {
     "data": {
      "text/plain": [
       "'shiv'"
      ]
     },
     "execution_count": 3,
     "metadata": {},
     "output_type": "execute_result"
    }
   ],
   "source": [
    "a.name"
   ]
  },
  {
   "cell_type": "code",
   "execution_count": 60,
   "id": "39cf1076",
   "metadata": {},
   "outputs": [],
   "source": [
    "class job_roll:\n",
    "    increment_rate= 3\n",
    "    \n",
    "    \n",
    "    def __init__(self,name,age,city,designation,salary):\n",
    "        self.name=name\n",
    "        self.age=age\n",
    "        self.city=city\n",
    "        self.designation=designation\n",
    "        self.salary=salary\n",
    "        \n",
    "        \n",
    "    def info_data(self):\n",
    "        print(f\"employee name is: {self.name}\")\n",
    "        print(f\"employee age is : {self.age}\")\n",
    "        print(f\"employee city is: {self.city}\")\n",
    "        print(f\"employee designation is: {self.designation}\")\n",
    "        print(f\"employee salary is: {self.salary}\")\n",
    "        \n",
    "        \n",
    "    def data(self):\n",
    "        self.salary=self.salary*self.increment_rate"
   ]
  },
  {
   "cell_type": "code",
   "execution_count": 61,
   "id": "e67f9589",
   "metadata": {},
   "outputs": [],
   "source": [
    "a=job_roll(\"akshita\",26,\"mumbai\",\"python developer\",7000)"
   ]
  },
  {
   "cell_type": "code",
   "execution_count": 62,
   "id": "e8e7fc45",
   "metadata": {},
   "outputs": [
    {
     "name": "stdout",
     "output_type": "stream",
     "text": [
      "employee name is: akshita\n",
      "employee age is : 26\n",
      "employee city is: mumbai\n",
      "employee designation is: python developer\n",
      "employee salary is: 7000\n"
     ]
    }
   ],
   "source": [
    "a.info_data()"
   ]
  },
  {
   "cell_type": "code",
   "execution_count": 63,
   "id": "bfe3e406",
   "metadata": {},
   "outputs": [],
   "source": [
    "a.data()"
   ]
  },
  {
   "cell_type": "code",
   "execution_count": 64,
   "id": "a4c680ee",
   "metadata": {},
   "outputs": [
    {
     "name": "stdout",
     "output_type": "stream",
     "text": [
      "employee name is: akshita\n",
      "employee age is : 26\n",
      "employee city is: mumbai\n",
      "employee designation is: python developer\n",
      "employee salary is: 14000\n"
     ]
    }
   ],
   "source": [
    "a.info_data()"
   ]
  },
  {
   "cell_type": "code",
   "execution_count": 65,
   "id": "bbf63c56",
   "metadata": {},
   "outputs": [
    {
     "data": {
      "text/plain": [
       "14000"
      ]
     },
     "execution_count": 65,
     "metadata": {},
     "output_type": "execute_result"
    }
   ],
   "source": [
    "a.salary"
   ]
  },
  {
   "cell_type": "code",
   "execution_count": 68,
   "id": "62f6af7c",
   "metadata": {},
   "outputs": [
    {
     "name": "stdout",
     "output_type": "stream",
     "text": [
      "employee name is: akshita\n",
      "employee age is : 26\n",
      "employee city is: mumbai\n",
      "employee designation is: python developer\n",
      "employee salary is: 14000\n"
     ]
    }
   ],
   "source": [
    "a.info_data()"
   ]
  },
  {
   "cell_type": "markdown",
   "id": "551f2e34",
   "metadata": {},
   "source": [
    "# increment rate-3 "
   ]
  },
  {
   "cell_type": "code",
   "execution_count": 70,
   "id": "9505982f",
   "metadata": {},
   "outputs": [],
   "source": [
    "a.data()"
   ]
  },
  {
   "cell_type": "code",
   "execution_count": 71,
   "id": "a174dd8c",
   "metadata": {},
   "outputs": [
    {
     "name": "stdout",
     "output_type": "stream",
     "text": [
      "employee name is: akshita\n",
      "employee age is : 26\n",
      "employee city is: mumbai\n",
      "employee designation is: python developer\n",
      "employee salary is: 28000\n"
     ]
    }
   ],
   "source": [
    "a.info_data()"
   ]
  },
  {
   "cell_type": "code",
   "execution_count": 72,
   "id": "272b46a8",
   "metadata": {},
   "outputs": [
    {
     "data": {
      "text/plain": [
       "28000"
      ]
     },
     "execution_count": 72,
     "metadata": {},
     "output_type": "execute_result"
    }
   ],
   "source": [
    "a.salary"
   ]
  },
  {
   "cell_type": "code",
   "execution_count": 73,
   "id": "50bad9ff",
   "metadata": {},
   "outputs": [
    {
     "data": {
      "text/plain": [
       "'akshita'"
      ]
     },
     "execution_count": 73,
     "metadata": {},
     "output_type": "execute_result"
    }
   ],
   "source": [
    "a.name"
   ]
  },
  {
   "cell_type": "code",
   "execution_count": 74,
   "id": "51ac2ce2",
   "metadata": {},
   "outputs": [
    {
     "data": {
      "text/plain": [
       "'python developer'"
      ]
     },
     "execution_count": 74,
     "metadata": {},
     "output_type": "execute_result"
    }
   ],
   "source": [
    "a.designation"
   ]
  },
  {
   "cell_type": "code",
   "execution_count": 76,
   "id": "2dd789cb",
   "metadata": {},
   "outputs": [
    {
     "data": {
      "text/plain": [
       "1800"
      ]
     },
     "execution_count": 76,
     "metadata": {},
     "output_type": "execute_result"
    }
   ],
   "source": [
    "def multiply(*num):\n",
    "    mul=1\n",
    "    for x in num:\n",
    "        mul=mul*x\n",
    "    return mul\n",
    "multiply(1,2,3,4,5,15)"
   ]
  },
  {
   "cell_type": "code",
   "execution_count": 86,
   "id": "9226255f",
   "metadata": {},
   "outputs": [
    {
     "name": "stdout",
     "output_type": "stream",
     "text": [
      "(10, 20, 30, 40)\n"
     ]
    }
   ],
   "source": [
    "def data(*num):\n",
    "    print(num)\n",
    "a=[10,20,30,40]\n",
    "data(*a)\n",
    "\n"
   ]
  },
  {
   "cell_type": "code",
   "execution_count": 90,
   "id": "b9969b78",
   "metadata": {},
   "outputs": [
    {
     "data": {
      "text/plain": [
       "60"
      ]
     },
     "execution_count": 90,
     "metadata": {},
     "output_type": "execute_result"
    }
   ],
   "source": [
    "def paper(*num):\n",
    "    add=1\n",
    "    for x in num:\n",
    "        add=add+x\n",
    "    return add\n",
    "paper(10,20,30)"
   ]
  },
  {
   "cell_type": "code",
   "execution_count": 96,
   "id": "f0064e70",
   "metadata": {},
   "outputs": [
    {
     "name": "stdout",
     "output_type": "stream",
     "text": [
      "mumbai\n",
      "shiva\n",
      "[2, 4, 6, 8, 10, 12, 14, 16, 18]\n",
      "[1, 3, 5, 7, 9, 11, 13, 15, 17, 19]\n"
     ]
    }
   ],
   "source": [
    "even=[]\n",
    "odd=[]\n",
    "city=\"mumbai\"\n",
    "def data():\n",
    "    name=\"shiva\"\n",
    "    print(city)\n",
    "    print(name)\n",
    "    for x in range(1,20):\n",
    "        if x%2==0:\n",
    "            even.append(x)\n",
    "        elif x%2!=0:\n",
    "            odd.append(x)\n",
    "    print(even)\n",
    "    print(odd)\n",
    "data()"
   ]
  },
  {
   "cell_type": "code",
   "execution_count": null,
   "id": "c58e199f",
   "metadata": {},
   "outputs": [],
   "source": []
  },
  {
   "cell_type": "code",
   "execution_count": null,
   "id": "b8a5fbbb",
   "metadata": {},
   "outputs": [],
   "source": []
  },
  {
   "cell_type": "code",
   "execution_count": null,
   "id": "028cafba",
   "metadata": {},
   "outputs": [],
   "source": []
  }
 ],
 "metadata": {
  "kernelspec": {
   "display_name": "Python 3 (ipykernel)",
   "language": "python",
   "name": "python3"
  },
  "language_info": {
   "codemirror_mode": {
    "name": "ipython",
    "version": 3
   },
   "file_extension": ".py",
   "mimetype": "text/x-python",
   "name": "python",
   "nbconvert_exporter": "python",
   "pygments_lexer": "ipython3",
   "version": "3.11.0"
  }
 },
 "nbformat": 4,
 "nbformat_minor": 5
}
