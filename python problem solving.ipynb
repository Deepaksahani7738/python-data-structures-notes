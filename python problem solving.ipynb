{
 "cells": [
  {
   "cell_type": "code",
   "execution_count": 4,
   "id": "15ca4dcd",
   "metadata": {},
   "outputs": [
    {
     "name": "stdout",
     "output_type": "stream",
     "text": [
      "18\n"
     ]
    }
   ],
   "source": [
    "data=\"my name is deepak 4555 back come \"\n",
    "print(data.find(\"4\"))"
   ]
  },
  {
   "cell_type": "code",
   "execution_count": 1,
   "id": "1d79c75d",
   "metadata": {},
   "outputs": [
    {
     "data": {
      "text/plain": [
       "'deepak'"
      ]
     },
     "execution_count": 1,
     "metadata": {},
     "output_type": "execute_result"
    }
   ],
   "source": [
    "res=\"deepak\"\n",
    "res.swapcase()\n",
    "res"
   ]
  },
  {
   "cell_type": "code",
   "execution_count": null,
   "id": "c3d404d0",
   "metadata": {},
   "outputs": [],
   "source": []
  },
  {
   "cell_type": "code",
   "execution_count": 20,
   "id": "7feba4d2",
   "metadata": {},
   "outputs": [
    {
     "data": {
      "text/plain": [
       "'abcdefghijklmnopqrstuvwxyzABCDEFGHIJKLMNOPQRSTUVWXYZ'"
      ]
     },
     "execution_count": 20,
     "metadata": {},
     "output_type": "execute_result"
    }
   ],
   "source": [
    "import string\n",
    "data=string.ascii_letters\n",
    "data"
   ]
  },
  {
   "cell_type": "code",
   "execution_count": 1,
   "id": "ad57e57a",
   "metadata": {},
   "outputs": [
    {
     "name": "stdout",
     "output_type": "stream",
     "text": [
      "Enter the number: pineapple\n",
      "Enter the num: 45ml\n"
     ]
    },
    {
     "data": {
      "text/plain": [
       "'PIN45'"
      ]
     },
     "execution_count": 1,
     "metadata": {},
     "output_type": "execute_result"
    }
   ],
   "source": [
    "intp=input('Enter the number: ')\n",
    "data=input('Enter the num: ')\n",
    "res=intp[0:3].upper()+data[0:-2]\n",
    "res"
   ]
  },
  {
   "cell_type": "code",
   "execution_count": 7,
   "id": "414dce8b",
   "metadata": {},
   "outputs": [
    {
     "name": "stdout",
     "output_type": "stream",
     "text": [
      "******\n",
      "******\n",
      "******\n",
      "******\n",
      "******\n",
      "******\n"
     ]
    }
   ],
   "source": [
    "data=\"Deepak\"\n",
    "for i in range(len(data)):\n",
    "    for j in range(len(data)):\n",
    "        print(\"*\",end=\"\")\n",
    "    print()"
   ]
  },
  {
   "cell_type": "code",
   "execution_count": 15,
   "id": "1dbfae7e",
   "metadata": {},
   "outputs": [
    {
     "name": "stdout",
     "output_type": "stream",
     "text": [
      "4 is even\n",
      "5 is odd\n",
      "45 is odd\n",
      "77 is odd\n",
      "89 is odd\n",
      "64 is even\n"
     ]
    }
   ],
   "source": [
    "def data(n):\n",
    "    for i in n:\n",
    "        if i%2==0:\n",
    "            print(f\"{i} is even\")\n",
    "        else:\n",
    "            print(f\"{i} is odd\")\n",
    "n=[4,5,45,77,89,64]\n",
    "data(n)"
   ]
  },
  {
   "cell_type": "code",
   "execution_count": 27,
   "id": "66f68d72",
   "metadata": {},
   "outputs": [
    {
     "name": "stdout",
     "output_type": "stream",
     "text": [
      "Enter the number: \n"
     ]
    }
   ],
   "source": [
    "try:    \n",
    "    data=int(input('Enter the number: '))\n",
    "\n",
    "    for i in range(data):\n",
    "        a=int(input('Enter the number: '))\n",
    "        if a>=2 and a<=10:\n",
    "            print(\"child\")\n",
    "        elif a>=12 and a<=20:\n",
    "            print('you are younger')\n",
    "        else:\n",
    "            print(\"old man\")\n",
    "except Exception as e:\n",
    "    e=None"
   ]
  },
  {
   "cell_type": "code",
   "execution_count": 36,
   "id": "aed2c972",
   "metadata": {},
   "outputs": [
    {
     "name": "stdout",
     "output_type": "stream",
     "text": [
      "         * \n",
      "        * * \n",
      "       * * * \n",
      "      * * * * \n",
      "     * * * * * \n",
      "    * * * * * * \n",
      "   * * * * * * * \n",
      "  * * * * * * * * \n",
      " * * * * * * * * * \n"
     ]
    }
   ],
   "source": [
    "for i in range(1,10):\n",
    "    for j in range(10-i):\n",
    "        print(\" \",end=\"\")\n",
    "    for k in range(i):\n",
    "        print(\"* \",end=\"\")\n",
    "    print()"
   ]
  },
  {
   "cell_type": "code",
   "execution_count": 37,
   "id": "09d2aebf",
   "metadata": {},
   "outputs": [
    {
     "data": {
      "text/plain": [
       "'C:\\\\Users\\\\ARVIND'"
      ]
     },
     "execution_count": 37,
     "metadata": {},
     "output_type": "execute_result"
    }
   ],
   "source": [
    "import os\n",
    "data=os.getcwd()\n",
    "data"
   ]
  },
  {
   "cell_type": "code",
   "execution_count": 41,
   "id": "646d24b3",
   "metadata": {},
   "outputs": [
    {
     "data": {
      "text/plain": [
       "['.bash_history',\n",
       " '.conda',\n",
       " '.condarc',\n",
       " '.continuum',\n",
       " '.git',\n",
       " '.gitconfig',\n",
       " '.idlerc',\n",
       " '.ipynb_checkpoints',\n",
       " '.ipython',\n",
       " '.jupyter',\n",
       " '.lesshst',\n",
       " '.ssh',\n",
       " '.viminfo',\n",
       " '.vscode',\n",
       " '.vscode-cli',\n",
       " 'anaconda3',\n",
       " 'AppData',\n",
       " 'Application Data',\n",
       " 'array.bin',\n",
       " 'Assignment-itvedant.ipynb',\n",
       " 'built in method in python.ipynb',\n",
       " 'Contacts',\n",
       " 'Cookies',\n",
       " 'data',\n",
       " 'data.py',\n",
       " 'data.txt',\n",
       " 'data_movies_project.ipynb',\n",
       " 'Deepak sahani',\n",
       " 'deepak.ipynb',\n",
       " 'docstring in python.ipynb',\n",
       " 'Documents',\n",
       " 'Downloads',\n",
       " 'Favorites',\n",
       " 'flipkart scarpping.ipynb',\n",
       " 'Flipkart scraping.ipynb',\n",
       " 'flipkart web scrapping.csv',\n",
       " 'FlipKart.csv',\n",
       " 'jarvish notepad',\n",
       " 'javascripts.ipynb',\n",
       " 'jobs titles.csv',\n",
       " 'Links',\n",
       " 'Local Settings',\n",
       " 'Music',\n",
       " 'My Documents',\n",
       " 'mysql_connector in python.ipynb',\n",
       " 'NetHood',\n",
       " 'NTUSER.DAT',\n",
       " 'ntuser.dat.LOG1',\n",
       " 'ntuser.dat.LOG2',\n",
       " 'NTUSER.DAT{a2332f18-cdbf-11ec-8680-002248483d79}.TM.blf',\n",
       " 'NTUSER.DAT{a2332f18-cdbf-11ec-8680-002248483d79}.TMContainer00000000000000000001.regtrans-ms',\n",
       " 'NTUSER.DAT{a2332f18-cdbf-11ec-8680-002248483d79}.TMContainer00000000000000000002.regtrans-ms',\n",
       " 'ntuser.ini',\n",
       " 'OneDrive',\n",
       " 'OOPs concept in Python.ipynb',\n",
       " 'PrintHood',\n",
       " 'project-movies_scraper.csv',\n",
       " 'project_movies_web_scrapers.ipynb',\n",
       " 'Recent',\n",
       " 'Regex.ipynb',\n",
       " 'Saved Games',\n",
       " 'Searches',\n",
       " 'SendTo',\n",
       " 'Start Menu',\n",
       " 'Temp',\n",
       " 'Templates',\n",
       " 'test.json',\n",
       " 'test.txt',\n",
       " 'text.txt',\n",
       " 'Untitled-html.html',\n",
       " 'Untitled.ipynb',\n",
       " 'Untitled1.ipynb',\n",
       " 'Untitled2.ipynb',\n",
       " 'Untitled3.ipynb',\n",
       " 'Untitled4.ipynb',\n",
       " 'Untitled5.ipynb',\n",
       " 'Videos',\n",
       " 'w3school scraping.ipynb',\n",
       " 'web scaping movies.ipynb',\n",
       " 'web scraping jobs times.ipynb',\n",
       " 'web_scraping_project.ipynb']"
      ]
     },
     "execution_count": 41,
     "metadata": {},
     "output_type": "execute_result"
    }
   ],
   "source": [
    "data=os.listdir(\"C:\\\\Users\\\\ARVIND\")\n",
    "data"
   ]
  },
  {
   "cell_type": "code",
   "execution_count": 43,
   "id": "9db0479f",
   "metadata": {},
   "outputs": [
    {
     "data": {
      "text/plain": [
       "[<DirEntry '.bash_history'>,\n",
       " <DirEntry '.conda'>,\n",
       " <DirEntry '.condarc'>,\n",
       " <DirEntry '.continuum'>,\n",
       " <DirEntry '.git'>,\n",
       " <DirEntry '.gitconfig'>,\n",
       " <DirEntry '.idlerc'>,\n",
       " <DirEntry '.ipynb_checkpoints'>,\n",
       " <DirEntry '.ipython'>,\n",
       " <DirEntry '.jupyter'>,\n",
       " <DirEntry '.lesshst'>,\n",
       " <DirEntry '.ssh'>,\n",
       " <DirEntry '.viminfo'>,\n",
       " <DirEntry '.vscode'>,\n",
       " <DirEntry '.vscode-cli'>,\n",
       " <DirEntry 'anaconda3'>,\n",
       " <DirEntry 'AppData'>,\n",
       " <DirEntry 'Application Data'>,\n",
       " <DirEntry 'array.bin'>,\n",
       " <DirEntry 'Assignment-itvedant.ipynb'>,\n",
       " <DirEntry 'built in method in python.ipynb'>,\n",
       " <DirEntry 'Contacts'>,\n",
       " <DirEntry 'Cookies'>,\n",
       " <DirEntry 'data'>,\n",
       " <DirEntry 'data.py'>,\n",
       " <DirEntry 'data.txt'>,\n",
       " <DirEntry 'data_movies_project.ipynb'>,\n",
       " <DirEntry 'Deepak sahani'>,\n",
       " <DirEntry 'deepak.ipynb'>,\n",
       " <DirEntry 'docstring in python.ipynb'>,\n",
       " <DirEntry 'Documents'>,\n",
       " <DirEntry 'Downloads'>,\n",
       " <DirEntry 'Favorites'>,\n",
       " <DirEntry 'flipkart scarpping.ipynb'>,\n",
       " <DirEntry 'Flipkart scraping.ipynb'>,\n",
       " <DirEntry 'flipkart web scrapping.csv'>,\n",
       " <DirEntry 'FlipKart.csv'>,\n",
       " <DirEntry 'jarvish notepad'>,\n",
       " <DirEntry 'javascripts.ipynb'>,\n",
       " <DirEntry 'jobs titles.csv'>,\n",
       " <DirEntry 'Links'>,\n",
       " <DirEntry 'Local Settings'>,\n",
       " <DirEntry 'Music'>,\n",
       " <DirEntry 'My Documents'>,\n",
       " <DirEntry 'mysql_connector in python.ipynb'>,\n",
       " <DirEntry 'NetHood'>,\n",
       " <DirEntry 'NTUSER.DAT'>,\n",
       " <DirEntry 'ntuser.dat.LOG1'>,\n",
       " <DirEntry 'ntuser.dat.LOG2'>,\n",
       " <DirEntry 'NTUSER.DAT{a2332f18-cdbf-11ec-8680-002248483d79}.TM.blf'>,\n",
       " <DirEntry 'NTUSER.DAT{a2332f18-cdbf-11ec-8680-002248483d79}.TMContainer00000000000000000001.regtrans-ms'>,\n",
       " <DirEntry 'NTUSER.DAT{a2332f18-cdbf-11ec-8680-002248483d79}.TMContainer00000000000000000002.regtrans-ms'>,\n",
       " <DirEntry 'ntuser.ini'>,\n",
       " <DirEntry 'OneDrive'>,\n",
       " <DirEntry 'OOPs concept in Python.ipynb'>,\n",
       " <DirEntry 'PrintHood'>,\n",
       " <DirEntry 'project-movies_scraper.csv'>,\n",
       " <DirEntry 'project_movies_web_scrapers.ipynb'>,\n",
       " <DirEntry 'Recent'>,\n",
       " <DirEntry 'Regex.ipynb'>,\n",
       " <DirEntry 'Saved Games'>,\n",
       " <DirEntry 'Searches'>,\n",
       " <DirEntry 'SendTo'>,\n",
       " <DirEntry 'Start Menu'>,\n",
       " <DirEntry 'Temp'>,\n",
       " <DirEntry 'Templates'>,\n",
       " <DirEntry 'test.json'>,\n",
       " <DirEntry 'test.txt'>,\n",
       " <DirEntry 'text.txt'>,\n",
       " <DirEntry 'Untitled-html.html'>,\n",
       " <DirEntry 'Untitled.ipynb'>,\n",
       " <DirEntry 'Untitled1.ipynb'>,\n",
       " <DirEntry 'Untitled2.ipynb'>,\n",
       " <DirEntry 'Untitled3.ipynb'>,\n",
       " <DirEntry 'Untitled4.ipynb'>,\n",
       " <DirEntry 'Untitled5.ipynb'>,\n",
       " <DirEntry 'Videos'>,\n",
       " <DirEntry 'w3school scraping.ipynb'>,\n",
       " <DirEntry 'web scaping movies.ipynb'>,\n",
       " <DirEntry 'web scraping jobs times.ipynb'>,\n",
       " <DirEntry 'web_scraping_project.ipynb'>]"
      ]
     },
     "execution_count": 43,
     "metadata": {},
     "output_type": "execute_result"
    }
   ],
   "source": [
    "res=os.scandir(\"C:\\\\Users\\\\ARVIND\")\n",
    "list(res)"
   ]
  },
  {
   "cell_type": "code",
   "execution_count": 69,
   "id": "6dacf769",
   "metadata": {},
   "outputs": [
    {
     "name": "stdout",
     "output_type": "stream",
     "text": [
      "         * \n",
      "        * * \n",
      "       * * * \n",
      "      * * * * \n",
      "     * * * * * \n",
      "    * * * * * * \n",
      "   * * * * * * * \n",
      "  * * * * * * * * \n",
      " * * * * * * * * * \n"
     ]
    }
   ],
   "source": [
    "for i in range(1,10):\n",
    "    for j in range(10-i):\n",
    "        print(\" \",end=\"\")\n",
    "    for k in range(i):\n",
    "        print(\"* \",end=\"\")\n",
    "    print()\n",
    "    "
   ]
  },
  {
   "cell_type": "code",
   "execution_count": 85,
   "id": "a5307c40",
   "metadata": {},
   "outputs": [
    {
     "name": "stdout",
     "output_type": "stream",
     "text": [
      "a\n",
      "l\n",
      "e\n"
     ]
    }
   ],
   "source": [
    "data=\"apple7899\"\n",
    "for char in range(len(data)):\n",
    "    if (data[char]==\"a\" or data[char]==\"e\" or data[char]==\"l\"):\n",
    "        print(data[char])"
   ]
  },
  {
   "cell_type": "code",
   "execution_count": 84,
   "id": "6f7afa68",
   "metadata": {},
   "outputs": [
    {
     "name": "stdout",
     "output_type": "stream",
     "text": [
      "0 a\n",
      "1 p\n",
      "2 p\n",
      "3 l\n",
      "4 e\n"
     ]
    }
   ],
   "source": [
    "data=\"apple\"\n",
    "for i in range(len(data)):\n",
    "    print(i,data[i])"
   ]
  },
  {
   "cell_type": "code",
   "execution_count": 96,
   "id": "3f937264",
   "metadata": {},
   "outputs": [
    {
     "data": {
      "text/plain": [
       "(45, 20, 35, 88, 99, 77)"
      ]
     },
     "execution_count": 96,
     "metadata": {},
     "output_type": "execute_result"
    }
   ],
   "source": [
    "tup=(45,20,35)\n",
    "lists=(88,99,77)\n",
    "data=(tup+lists)\n",
    "data\n",
    "\n",
    "        \n",
    "    "
   ]
  },
  {
   "cell_type": "code",
   "execution_count": 112,
   "id": "6db9fec6",
   "metadata": {},
   "outputs": [
    {
     "name": "stdout",
     "output_type": "stream",
     "text": [
      "{66, 35, 68, 99, 12, 45, 77}\n"
     ]
    }
   ],
   "source": [
    "res=lambda a,b,c:a+list(b)+list(c)\n",
    "data=res([12,35,77],(45,68,99),c)\n",
    "print(set(data))"
   ]
  },
  {
   "cell_type": "code",
   "execution_count": 11,
   "id": "548212ca",
   "metadata": {},
   "outputs": [
    {
     "data": {
      "text/plain": [
       "['apple', 'boy']"
      ]
     },
     "execution_count": 11,
     "metadata": {},
     "output_type": "execute_result"
    }
   ],
   "source": [
    "a=[\"app\",\"bo\"]\n",
    "b=[\"le\",\"y\"]\n",
    "res=[k+v for k,v in zip(a,b)]\n",
    "res"
   ]
  },
  {
   "cell_type": "code",
   "execution_count": 46,
   "id": "74f294db",
   "metadata": {},
   "outputs": [
    {
     "name": "stdout",
     "output_type": "stream",
     "text": [
      "Enter the number: xnkaiuoua\n",
      "['a', 'i', 'u', 'o', 'u', 'a']\n"
     ]
    }
   ],
   "source": [
    "n=input('Enter the number: ')\n",
    "lst=[]\n",
    "for i in n:\n",
    "    if str(i).lower() in \"aeiou\":\n",
    "        lst.append(i)\n",
    "print(lst)\n",
    "        \n",
    "    \n",
    "    "
   ]
  },
  {
   "cell_type": "code",
   "execution_count": 48,
   "id": "197c8864",
   "metadata": {},
   "outputs": [
    {
     "name": "stdout",
     "output_type": "stream",
     "text": [
      "Enter the number: arvinddeepak\n",
      "2\n"
     ]
    }
   ],
   "source": [
    "data=input('Enter the number: ')\n",
    "count=0\n",
    "for i in data:\n",
    "    if i==\"a\":\n",
    "        count+=1\n",
    "print(count)"
   ]
  },
  {
   "cell_type": "code",
   "execution_count": 53,
   "id": "77294b70",
   "metadata": {},
   "outputs": [
    {
     "name": "stdout",
     "output_type": "stream",
     "text": [
      "          \n",
      "         * \n",
      "        * * \n",
      "       * * * \n",
      "      * * * * \n",
      "     * * * * * \n",
      "    * * * * * * \n",
      "   * * * * * * * \n",
      "  * * * * * * * * \n",
      " * * * * * * * * * \n"
     ]
    }
   ],
   "source": [
    "for i in range(10):\n",
    "    for j in range(10-i):\n",
    "        print(\" \",end=\"\")\n",
    "    for k in range(i):\n",
    "        print(\"* \",end=\"\")\n",
    "    print()"
   ]
  },
  {
   "cell_type": "code",
   "execution_count": 2,
   "id": "27dd4011",
   "metadata": {},
   "outputs": [
    {
     "name": "stdout",
     "output_type": "stream",
     "text": [
      "          \t\n",
      "         * \t\n",
      "        * * \t\n",
      "       * * * \t\n",
      "      * * * * \t\n",
      "     * * * * * \t\n",
      "    * * * * * * \t\n",
      "   * * * * * * * \t\n",
      "  * * * * * * * * \t\n",
      " * * * * * * * * * \t\n"
     ]
    }
   ],
   "source": [
    "for i in range(10):\n",
    "    for j in range(10-i):\n",
    "        print(\" \",end=\"\")\n",
    "    for k in range(i):\n",
    "        print(\"* \",end=\"\")\n",
    "    print(\"\\t\")"
   ]
  },
  {
   "cell_type": "code",
   "execution_count": 3,
   "id": "56272c16",
   "metadata": {},
   "outputs": [
    {
     "name": "stdout",
     "output_type": "stream",
     "text": [
      "          \n",
      "         * \n",
      "        * * \n",
      "       * * * \n",
      "      * * * * \n",
      "     * * * * * \n",
      "    * * * * * * \n",
      "   * * * * * * * \n",
      "  * * * * * * * * \n",
      " * * * * * * * * * \n",
      "* * * * * * * * * * \n",
      " * * * * * * * * * \n",
      "  * * * * * * * * \n",
      "   * * * * * * * \n",
      "    * * * * * * \n",
      "     * * * * * \n",
      "      * * * * \n",
      "       * * * \n",
      "        * * \n",
      "         * \n"
     ]
    }
   ],
   "source": [
    "for i in range(10):\n",
    "    for j in range(10-i):\n",
    "        print(\" \",end=\"\")\n",
    "    for k in range(i):\n",
    "        print(\"* \",end=\"\")\n",
    "    print()\n",
    "for i in range(10,0,-1):\n",
    "    for j in range(10-i):\n",
    "        print(\" \",end=\"\")\n",
    "    for k in range(i):\n",
    "        print(\"* \",end=\"\")\n",
    "    print()"
   ]
  },
  {
   "cell_type": "code",
   "execution_count": 19,
   "id": "98c72c3d",
   "metadata": {},
   "outputs": [
    {
     "name": "stdout",
     "output_type": "stream",
     "text": [
      "ENTER the number: akisaaAIA\n",
      "['a', 'i', 'A', 'I']\n"
     ]
    }
   ],
   "source": [
    "def data(n):\n",
    "    lst=[]\n",
    "    for i in n:\n",
    "        if i.lower() in \"aioue\":\n",
    "            if i not in lst:\n",
    "                lst.append(i)\n",
    "        else:\n",
    "            None\n",
    "    print(lst)\n",
    "n=input('ENTER the number: ')\n",
    "data(n)"
   ]
  },
  {
   "cell_type": "code",
   "execution_count": 1,
   "id": "28a7c438",
   "metadata": {},
   "outputs": [
    {
     "name": "stdout",
     "output_type": "stream",
     "text": [
      "[11, 12, 44, 56, 78]\n"
     ]
    }
   ],
   "source": [
    "data=[11,12,11,44,12,56,78]\n",
    "lst=[]\n",
    "for i in data:\n",
    "    if i not in lst:\n",
    "        lst.append(i)\n",
    "print(lst)"
   ]
  },
  {
   "cell_type": "code",
   "execution_count": 4,
   "id": "e6959ff9",
   "metadata": {},
   "outputs": [
    {
     "name": "stdout",
     "output_type": "stream",
     "text": [
      "[12, 45, 65]\n",
      "[12, 45, 65, 11]\n",
      "[12, 45, 65]\n",
      "[12, 45, 65]\n"
     ]
    }
   ],
   "source": [
    "def data(n):\n",
    "    lst=[]\n",
    "    for i in n:\n",
    "        if i not in lst:\n",
    "            lst.append(i)\n",
    "    print(lst)\n",
    "data([12,45,65,12])\n",
    "data([12,45,65,11,11,45])\n",
    "data([12,45,65,12])\n",
    "data([12,45,65,12])"
   ]
  },
  {
   "cell_type": "code",
   "execution_count": 10,
   "id": "0a77f325",
   "metadata": {},
   "outputs": [
    {
     "name": "stdout",
     "output_type": "stream",
     "text": [
      "Enter the number: axsnakm\n",
      "['it is vowels a', 'it is not an vowels x', 'it is not an vowels s', 'it is not an vowels n', 'it is vowels a', 'it is not an vowels k', 'it is not an vowels m']\n"
     ]
    }
   ],
   "source": [
    "n=input('Enter the number: ')\n",
    "lst=[]\n",
    "for i in n:\n",
    "    if i.lower() in \"aeiou\":\n",
    "        if i not in lst:\n",
    "            lst.append(f\"it is vowels {i}\")\n",
    "    else:\n",
    "        lst.append(f\"it is not an vowels {i}\")\n",
    "print(lst)\n",
    "        "
   ]
  },
  {
   "cell_type": "code",
   "execution_count": 21,
   "id": "2c23576a",
   "metadata": {},
   "outputs": [
    {
     "data": {
      "text/plain": [
       "(24, 12)"
      ]
     },
     "execution_count": 21,
     "metadata": {},
     "output_type": "execute_result"
    }
   ],
   "source": [
    "lst=[12, 35, 9, 56, 24]\n",
    "x=lst[0],lst[-1]=lst[-1],lst[0]\n",
    "x"
   ]
  },
  {
   "cell_type": "code",
   "execution_count": 48,
   "id": "69c16006",
   "metadata": {},
   "outputs": [
    {
     "data": {
      "text/plain": [
       "[12, 25, 66, 35, 45, 78]"
      ]
     },
     "execution_count": 48,
     "metadata": {},
     "output_type": "execute_result"
    }
   ],
   "source": [
    "lst=[12,25,35,66,45,78]\n",
    "lst[2],lst[-3]=lst[-3],lst[2]\n",
    "lst"
   ]
  },
  {
   "cell_type": "code",
   "execution_count": 60,
   "id": "0eff07af",
   "metadata": {},
   "outputs": [
    {
     "name": "stdout",
     "output_type": "stream",
     "text": [
      "[55, 45, 77, 89, 66, 24]\n",
      "[100, 45, 77, 89, 66, 90]\n",
      "[120, 45, 77, 89, 66, 144]\n",
      "[350, 45, 77, 89, 66, 240]\n"
     ]
    }
   ],
   "source": [
    "def data(n):\n",
    "    data=n\n",
    "    data[0],data[-1]=data[-1],data[0]\n",
    "    return data\n",
    "print(data([24,45,77,89,66,55]))\n",
    "print(data([90,45,77,89,66,100]))\n",
    "print(data([144,45,77,89,66,120]))\n",
    "print(data([240,45,77,89,66,350]))"
   ]
  },
  {
   "cell_type": "code",
   "execution_count": 21,
   "id": "8e495d40",
   "metadata": {},
   "outputs": [
    {
     "data": {
      "text/plain": [
       "5"
      ]
     },
     "execution_count": 21,
     "metadata": {},
     "output_type": "execute_result"
    }
   ],
   "source": [
    "def charCount(n):\n",
    "    count=0\n",
    "    for i in n:\n",
    "        if i==\"b\":\n",
    "            count+=1\n",
    "    return count\n",
    "charCount(\"bbbbb\")"
   ]
  },
  {
   "cell_type": "code",
   "execution_count": 71,
   "id": "960c1239",
   "metadata": {},
   "outputs": [
    {
     "name": "stdout",
     "output_type": "stream",
     "text": [
      "Enter the number: 464655\n",
      "{'4': 2, '6': 2, '5': 2}\n"
     ]
    }
   ],
   "source": [
    "n=input('Enter the number: ')\n",
    "lst={}\n",
    "for i in n:\n",
    "    lst[i]=n.count(i)\n",
    "print(lst)"
   ]
  },
  {
   "cell_type": "code",
   "execution_count": 74,
   "id": "88fc2c5b",
   "metadata": {},
   "outputs": [
    {
     "name": "stdout",
     "output_type": "stream",
     "text": [
      "Enter the values: smknasjknckjhnakcha45454552311\n"
     ]
    },
    {
     "data": {
      "text/plain": [
       "{'s': 2,\n",
       " 'm': 1,\n",
       " 'k': 4,\n",
       " 'n': 3,\n",
       " 'a': 3,\n",
       " 'j': 2,\n",
       " 'c': 2,\n",
       " 'h': 2,\n",
       " '4': 3,\n",
       " '5': 4,\n",
       " '2': 1,\n",
       " '3': 1,\n",
       " '1': 2}"
      ]
     },
     "execution_count": 74,
     "metadata": {},
     "output_type": "execute_result"
    }
   ],
   "source": [
    "def main(data):\n",
    "    sets={}\n",
    "    for i in data:\n",
    "        sets[i]=data.count(i)\n",
    "    return sets\n",
    "data=input('Enter the values: ')\n",
    "main(data)"
   ]
  },
  {
   "cell_type": "code",
   "execution_count": 2,
   "id": "99c332c5",
   "metadata": {},
   "outputs": [
    {
     "name": "stdout",
     "output_type": "stream",
     "text": [
      "Enter the number: apple\n",
      "Enter the num: 45,l\n"
     ]
    },
    {
     "data": {
      "text/plain": [
       "'APP45'"
      ]
     },
     "execution_count": 2,
     "metadata": {},
     "output_type": "execute_result"
    }
   ],
   "source": [
    "intp=input('Enter the number: ')\n",
    "data=input('Enter the num: ')\n",
    "res=intp[0:3].upper()+data[0:-2]\n",
    "res"
   ]
  },
  {
   "cell_type": "code",
   "execution_count": 4,
   "id": "92823bf2",
   "metadata": {},
   "outputs": [
    {
     "data": {
      "text/plain": [
       "[4, 16, 36, 64, 100]"
      ]
     },
     "execution_count": 4,
     "metadata": {},
     "output_type": "execute_result"
    }
   ],
   "source": [
    "data=[2,4,6,8,10]\n",
    "res=[num**2 for num in data]\n",
    "res"
   ]
  },
  {
   "cell_type": "code",
   "execution_count": 5,
   "id": "b84854e0",
   "metadata": {},
   "outputs": [
    {
     "data": {
      "text/plain": [
       "[6, 5, 4]"
      ]
     },
     "execution_count": 5,
     "metadata": {},
     "output_type": "execute_result"
    }
   ],
   "source": [
    "def data(n):\n",
    "    data=n\n",
    "    data[0],data[-1]=data[-1],data[0]\n",
    "    return data\n",
    "data([4,5,6])"
   ]
  },
  {
   "cell_type": "code",
   "execution_count": 22,
   "id": "07077dfd",
   "metadata": {},
   "outputs": [
    {
     "data": {
      "text/plain": [
       "[10, 20, 4, 5, 6, 12, 45, 66, 10]"
      ]
     },
     "execution_count": 22,
     "metadata": {},
     "output_type": "execute_result"
    }
   ],
   "source": [
    "a=[10,20,4,5,6]\n",
    "b=[12,45,66,10]\n",
    "res=[a for a in a+b]\n",
    "res"
   ]
  },
  {
   "cell_type": "code",
   "execution_count": 15,
   "id": "064663cf",
   "metadata": {},
   "outputs": [
    {
     "data": {
      "text/plain": [
       "(10, 20, 30, 44, 55, 66)"
      ]
     },
     "execution_count": 15,
     "metadata": {},
     "output_type": "execute_result"
    }
   ],
   "source": [
    "a=(10,20,30)\n",
    "b=(44,55,66)\n",
    "res=tuple([a for a in a+b])\n",
    "res"
   ]
  },
  {
   "cell_type": "code",
   "execution_count": 35,
   "id": "4f9a7448",
   "metadata": {},
   "outputs": [
    {
     "name": "stdout",
     "output_type": "stream",
     "text": [
      "[4, 5, 6, 'hello', 8]\n"
     ]
    }
   ],
   "source": [
    "lst=[4,5,6,\"hello\",8,4,6]\n",
    "data=[]\n",
    "for i in lst:\n",
    "    if i not in data:\n",
    "        data.append(i)\n",
    "print(data)"
   ]
  },
  {
   "cell_type": "code",
   "execution_count": null,
   "id": "67852617",
   "metadata": {},
   "outputs": [],
   "source": []
  },
  {
   "cell_type": "code",
   "execution_count": 5,
   "id": "aaae1634",
   "metadata": {},
   "outputs": [
    {
     "data": {
      "text/plain": [
       "['bo', 'no', 'de']"
      ]
     },
     "execution_count": 5,
     "metadata": {},
     "output_type": "execute_result"
    }
   ],
   "source": [
    "data=[\"bom\",\"non\",\"deep\"]\n",
    "res=[x[0:2] for x in data]\n",
    "res"
   ]
  },
  {
   "cell_type": "code",
   "execution_count": 6,
   "id": "e429876f",
   "metadata": {},
   "outputs": [
    {
     "data": {
      "text/plain": [
       "[3, 3, 4]"
      ]
     },
     "execution_count": 6,
     "metadata": {},
     "output_type": "execute_result"
    }
   ],
   "source": [
    "res=[len(x) for x in data]\n",
    "res"
   ]
  },
  {
   "cell_type": "code",
   "execution_count": 7,
   "id": "44d22023",
   "metadata": {},
   "outputs": [
    {
     "data": {
      "text/plain": [
       "'bom non deep'"
      ]
     },
     "execution_count": 7,
     "metadata": {},
     "output_type": "execute_result"
    }
   ],
   "source": [
    "res=\" \".join(data)\n",
    "res"
   ]
  },
  {
   "cell_type": "code",
   "execution_count": 1,
   "id": "7ead244e",
   "metadata": {},
   "outputs": [
    {
     "name": "stdout",
     "output_type": "stream",
     "text": [
      "0\n",
      "1\n",
      "2\n",
      "3\n",
      "4\n",
      "5\n",
      "6\n",
      "7\n",
      "8\n",
      "9\n",
      "10\n",
      "11\n",
      "12\n"
     ]
    }
   ],
   "source": [
    "n=0\n",
    "while n<=12:\n",
    "    print(n)\n",
    "    n+=1"
   ]
  },
  {
   "cell_type": "code",
   "execution_count": 27,
   "id": "5774f51d",
   "metadata": {},
   "outputs": [
    {
     "name": "stdout",
     "output_type": "stream",
     "text": [
      "Enter the number: 8\n",
      "8 is a composite number\n"
     ]
    }
   ],
   "source": [
    "n = int(input('Enter the number: '))\n",
    "\n",
    "def prime(n):\n",
    "    count = 0\n",
    "    for i in range(1, n+1):\n",
    "        if n % i == 0:\n",
    "            count += 1\n",
    "\n",
    "    if count == 2:\n",
    "        print(f'{n} is a prime number')\n",
    "    else:\n",
    "        print(f'{n} is a composite number')\n",
    "\n",
    "prime(n)\n"
   ]
  },
  {
   "cell_type": "code",
   "execution_count": 17,
   "id": "ed8e3fc7",
   "metadata": {},
   "outputs": [
    {
     "name": "stdout",
     "output_type": "stream",
     "text": [
      "Enter the number: 4\n",
      "['even number is 0', 'odd number is 1', 'even number is 2', 'odd number is 3']\n"
     ]
    }
   ],
   "source": [
    "n=int(input('Enter the number: '))\n",
    "lst=[]\n",
    "for i in range(n):\n",
    "    if i%2==0:\n",
    "        lst.append(f\"even number is {i}\")\n",
    "    else:\n",
    "        lst.append(f\"odd number is {i}\")\n",
    "print(lst)"
   ]
  },
  {
   "cell_type": "code",
   "execution_count": 35,
   "id": "9548f577",
   "metadata": {},
   "outputs": [
    {
     "name": "stdout",
     "output_type": "stream",
     "text": [
      "Enter the number: 53\n",
      "composite number 53\n"
     ]
    }
   ],
   "source": [
    "n=int(input('Enter the number: '))\n",
    "count=0\n",
    "for i in range(1,10):\n",
    "    if n%i==0:\n",
    "        count+=1\n",
    "if count==2:\n",
    "    print(f'it is prime number {n}')\n",
    "else:\n",
    "    print(f\"composite number {n}\")"
   ]
  },
  {
   "cell_type": "code",
   "execution_count": 34,
   "id": "691a86f6",
   "metadata": {},
   "outputs": [
    {
     "name": "stdout",
     "output_type": "stream",
     "text": [
      "Enter the number: 53\n",
      "53 is a prime number\n"
     ]
    }
   ],
   "source": [
    "n = int(input('Enter the number: '))\n",
    "\n",
    "def is_prime(n):\n",
    "    if n < 2:\n",
    "        return False\n",
    "\n",
    "    for i in range(2, n):\n",
    "        if n % i == 0:\n",
    "            return False\n",
    "\n",
    "    return True\n",
    "\n",
    "if is_prime(n):\n",
    "    print(f'{n} is a prime number')\n",
    "else:\n",
    "    print(f'{n} is not a prime number')\n"
   ]
  },
  {
   "cell_type": "code",
   "execution_count": 7,
   "id": "8c6dc1f3",
   "metadata": {},
   "outputs": [
    {
     "name": "stdout",
     "output_type": "stream",
     "text": [
      "enter the num: 14\n",
      "1  1  2  3  5  8  13  21  34  55  89  144  233  377  "
     ]
    }
   ],
   "source": [
    "n=int(input('enter the num: '))\n",
    "a,b=0,1\n",
    "c=0\n",
    "for i in range(n):\n",
    "    a=b\n",
    "    b=c\n",
    "    c=a+b\n",
    "    print(c,end=\"  \")\n",
    "# fibonaccie series"
   ]
  },
  {
   "cell_type": "code",
   "execution_count": 3,
   "id": "f77e553d",
   "metadata": {},
   "outputs": [
    {
     "data": {
      "text/plain": [
       "[50, 45, 56, 12]"
      ]
     },
     "execution_count": 3,
     "metadata": {},
     "output_type": "execute_result"
    }
   ],
   "source": [
    "def swaplist(n):\n",
    "    n[0],n[-1]=n[-1],n[0]\n",
    "    return n\n",
    "swaplist([12,45,56,23])\n",
    "swaplist([12,45,56,50])"
   ]
  },
  {
   "cell_type": "code",
   "execution_count": 4,
   "id": "ff680d23",
   "metadata": {},
   "outputs": [
    {
     "name": "stdout",
     "output_type": "stream",
     "text": [
      "[111, 123, 45]\n"
     ]
    }
   ],
   "source": [
    "data=[111,123,45,111]\n",
    "lst=[]\n",
    "for i in data:\n",
    "    if i not in lst:\n",
    "        lst.append(i)\n",
    "print(lst)"
   ]
  },
  {
   "cell_type": "code",
   "execution_count": 6,
   "id": "f8a58d08",
   "metadata": {},
   "outputs": [
    {
     "name": "stdout",
     "output_type": "stream",
     "text": [
      "['my', 'name', 'is', 'deepak']\n"
     ]
    }
   ],
   "source": [
    "a=\"my name is deepak\"\n",
    "x=a.split()\n",
    "print(x)"
   ]
  },
  {
   "cell_type": "code",
   "execution_count": 18,
   "id": "77a9939b",
   "metadata": {},
   "outputs": [
    {
     "name": "stdout",
     "output_type": "stream",
     "text": [
      " deepak sahani good coder\n"
     ]
    }
   ],
   "source": [
    "import re\n",
    "a=\" deepak                   sahani                  good coder\"\n",
    "patt=\"\\s+\"\n",
    "match=re.sub(patt,\" \",a)\n",
    "print(match)"
   ]
  },
  {
   "cell_type": "code",
   "execution_count": 21,
   "id": "3e15beb5",
   "metadata": {},
   "outputs": [
    {
     "name": "stdout",
     "output_type": "stream",
     "text": [
      "48\n",
      "5\n",
      "5\n",
      "6\n",
      "6\n"
     ]
    }
   ],
   "source": [
    "place=\"mumbai is a big city as compare to gujrat 5566 !\"\n",
    "print(len(place))\n",
    "for item in place:\n",
    "    if item.isdigit():\n",
    "        print(item)"
   ]
  },
  {
   "cell_type": "code",
   "execution_count": 2,
   "id": "f692f90f",
   "metadata": {},
   "outputs": [
    {
     "name": "stdout",
     "output_type": "stream",
     "text": [
      "Enter the number: \n",
      "[]\n",
      "[]\n"
     ]
    }
   ],
   "source": [
    "n=input('Enter the number: ')\n",
    "lst=[]\n",
    "data=[]\n",
    "for i in n:\n",
    "    if i.isdigit():\n",
    "        lst.append(i)\n",
    "    elif i.isalpha() or i.upper():\n",
    "        data.append(i)\n",
    "    else:\n",
    "        None\n",
    "print(lst)\n",
    "print(data)\n",
    "        \n",
    "        "
   ]
  },
  {
   "cell_type": "markdown",
   "id": "b2f8f273",
   "metadata": {},
   "source": []
  },
  {
   "cell_type": "code",
   "execution_count": 27,
   "id": "d88c81a1",
   "metadata": {},
   "outputs": [],
   "source": [
    "a=[45,32,45,68]\n",
    "b=[88,99,77,85]"
   ]
  },
  {
   "cell_type": "code",
   "execution_count": 30,
   "id": "103c2da4",
   "metadata": {},
   "outputs": [
    {
     "name": "stdout",
     "output_type": "stream",
     "text": [
      "Geeks for Geeks\n",
      "Geeks for Geeks "
     ]
    }
   ],
   "source": [
    "lst=['Geeks', 'for', 'Geeks']\n",
    "res=\" \".join(lst)\n",
    "print(res)\n",
    "for i in lst:\n",
    "    print(i,end=\" \")"
   ]
  },
  {
   "cell_type": "code",
   "execution_count": 39,
   "id": "0c8175eb",
   "metadata": {},
   "outputs": [
    {
     "name": "stdout",
     "output_type": "stream",
     "text": [
      "<class 'list'>\n",
      "['Geeks', 'for', 'Geeks']\n"
     ]
    }
   ],
   "source": [
    "lst=\"Geeks for Geeks\"\n",
    "res=lst.split()\n",
    "print(type(res))\n",
    "import re\n",
    "\n",
    "patt=\"[a-zA-Z]+\"\n",
    "match=re.findall(patt,lst)\n",
    "print(match)"
   ]
  },
  {
   "cell_type": "code",
   "execution_count": 40,
   "id": "7f551d91",
   "metadata": {},
   "outputs": [],
   "source": [
    "# convert given string to  list\n",
    "# 1) import re\n",
    "# 2) split method"
   ]
  },
  {
   "cell_type": "code",
   "execution_count": 41,
   "id": "784fbec4",
   "metadata": {},
   "outputs": [],
   "source": [
    "# convert given list to string\n",
    "# \" \".join method\n",
    "# for loop "
   ]
  },
  {
   "cell_type": "code",
   "execution_count": 42,
   "id": "1da0aec4",
   "metadata": {},
   "outputs": [],
   "source": [
    "# find common value of two list\n",
    "# for i in lst     for j in lst\n",
    "# condition == then append print statement"
   ]
  },
  {
   "cell_type": "code",
   "execution_count": 43,
   "id": "a9105133",
   "metadata": {},
   "outputs": [],
   "source": [
    "# sub space with help of re\n",
    "# re and \\s+ then sub print statement  re.sub(b,\" \",a)"
   ]
  },
  {
   "cell_type": "code",
   "execution_count": 47,
   "id": "73167e58",
   "metadata": {},
   "outputs": [
    {
     "name": "stdout",
     "output_type": "stream",
     "text": [
      "[('bhanu', 'html'), ('bhanu', 'php'), ('suma', 'python'), ('rasmi', 'java'), ('suma', 'html/csscss')]\n"
     ]
    }
   ],
   "source": [
    "inputs = [[('bhanu', 'html'),\n",
    "         ('bhanu', 'php'),\n",
    "         ('suma', 'python'),\n",
    "         ('rasmi', 'java'),\n",
    "        ('suma', 'html/csscss')]]\n",
    "\n",
    "dicts={}\n",
    "for i in inputs:\n",
    "    "
   ]
  },
  {
   "cell_type": "code",
   "execution_count": null,
   "id": "ff6576a8",
   "metadata": {},
   "outputs": [],
   "source": []
  },
  {
   "cell_type": "code",
   "execution_count": 4,
   "id": "28443ac2",
   "metadata": {},
   "outputs": [
    {
     "name": "stdout",
     "output_type": "stream",
     "text": [
      "4\n"
     ]
    }
   ],
   "source": [
    "count=0\n",
    "data=\" my name is deepak\"\n",
    "for i in data:\n",
    "    if i==\" \":\n",
    "        count+=1\n",
    "    else:\n",
    "        None\n",
    "print(count)"
   ]
  },
  {
   "cell_type": "code",
   "execution_count": 5,
   "id": "6773916c",
   "metadata": {},
   "outputs": [
    {
     "name": "stdout",
     "output_type": "stream",
     "text": [
      "2\n"
     ]
    }
   ],
   "source": [
    "data=[10,20,30,40,20,30,50]\n",
    "dicts={}\n",
    "for i in data:\n",
    "    if i==10:\n",
    "        count+=1\n",
    "print(count)"
   ]
  },
  {
   "cell_type": "code",
   "execution_count": 7,
   "id": "c6e6c2ba",
   "metadata": {},
   "outputs": [
    {
     "name": "stdout",
     "output_type": "stream",
     "text": [
      "{'bhanu': ['html', 'php'], 'suma': ['python', 'html/csscss'], 'rasmi': ['java']}\n"
     ]
    }
   ],
   "source": [
    "inputs = [[('bhanu', 'html'),\n",
    "         ('bhanu', 'php'),\n",
    "         ('suma', 'python'),\n",
    "         ('rasmi', 'java'),\n",
    "        ('suma', 'html/csscss')]]\n",
    "dicts={}\n",
    "for i in inputs:\n",
    "    for key,value in i:\n",
    "        if key in dicts:\n",
    "            dicts[key].append(value)\n",
    "        else:\n",
    "            dicts[key]=[value]\n",
    "print(dicts)"
   ]
  },
  {
   "cell_type": "code",
   "execution_count": 23,
   "id": "18d5bad9",
   "metadata": {},
   "outputs": [
    {
     "name": "stdout",
     "output_type": "stream",
     "text": [
      "{'good': 'coder', 'name': 'deepak'}\n"
     ]
    }
   ],
   "source": [
    "data=[('good','coder'),('name','deepak')]\n",
    "a={}\n",
    "for key,value in data:\n",
    "    if key in a:\n",
    "#         a[key].append(value)\n",
    "        None\n",
    "    else:\n",
    "        a[key]=value\n",
    "print(a)"
   ]
  },
  {
   "cell_type": "code",
   "execution_count": 22,
   "id": "400efde9",
   "metadata": {},
   "outputs": [
    {
     "name": "stdout",
     "output_type": "stream",
     "text": [
      "         * \n",
      "        * * \n",
      "       * * * \n",
      "      * * * * \n",
      "     * * * * * \n",
      "    * * * * * * \n",
      "   * * * * * * * \n",
      "  * * * * * * * * \n",
      " * * * * * * * * * \n"
     ]
    }
   ],
   "source": [
    "for i in range(1,10):\n",
    "    for j in range(10-i):\n",
    "        print(\" \",end=\"\")\n",
    "    for k in range(i):\n",
    "        print(\"* \",end=\"\")\n",
    "    print()"
   ]
  },
  {
   "cell_type": "code",
   "execution_count": 34,
   "id": "b0ed729f",
   "metadata": {},
   "outputs": [
    {
     "name": "stdout",
     "output_type": "stream",
     "text": [
      "['apple', 'boy']\n"
     ]
    }
   ],
   "source": [
    "a=[\"app\",\"bo\"]\n",
    "b=[\"le\",\"y\"]\n",
    "res=a[0]+b[0],a[1]+b[1]\n",
    "print(list(res))"
   ]
  },
  {
   "cell_type": "code",
   "execution_count": 40,
   "id": "90e4d05b",
   "metadata": {},
   "outputs": [
    {
     "data": {
      "text/plain": [
       "['apple', 'boy']"
      ]
     },
     "execution_count": 40,
     "metadata": {},
     "output_type": "execute_result"
    }
   ],
   "source": [
    "a = [\"app\", \"bo\"]\n",
    "b = [\"le\", \"y\"]\n",
    "res=[k+v for k,v in zip(a,b)]\n",
    "res"
   ]
  },
  {
   "cell_type": "code",
   "execution_count": 41,
   "id": "68a6a863",
   "metadata": {},
   "outputs": [
    {
     "data": {
      "text/plain": [
       "(10, 20, 30, 40, 50, 50, 70, 80, 10)"
      ]
     },
     "execution_count": 41,
     "metadata": {},
     "output_type": "execute_result"
    }
   ],
   "source": [
    "a=(10,20,30,40,50)\n",
    "b=(50,70,80,10)\n",
    "res=tuple(a+b)\n",
    "res"
   ]
  },
  {
   "cell_type": "code",
   "execution_count": 51,
   "id": "f3cf7f76",
   "metadata": {},
   "outputs": [],
   "source": [
    "lst=[a*2 for a in a]\n"
   ]
  },
  {
   "cell_type": "code",
   "execution_count": 54,
   "id": "e3a861ae",
   "metadata": {},
   "outputs": [
    {
     "name": "stdout",
     "output_type": "stream",
     "text": [
      "[10, 50]\n"
     ]
    }
   ],
   "source": [
    "a=(10,20,30,40,50)\n",
    "b=(50,70,80,10)\n",
    "lst=[]\n",
    "for i in list(a):\n",
    "    for j in list(b):\n",
    "        if i==j:\n",
    "            lst.append(i)\n",
    "print(lst)\n",
    "            \n",
    "            "
   ]
  },
  {
   "cell_type": "code",
   "execution_count": 7,
   "id": "4e9131d5",
   "metadata": {},
   "outputs": [
    {
     "data": {
      "text/plain": [
       "[5, 5]"
      ]
     },
     "execution_count": 7,
     "metadata": {},
     "output_type": "execute_result"
    }
   ],
   "source": [
    "data=[\"good \",\"coder\"]\n",
    "res=[len(x) for x in data]\n",
    "res"
   ]
  },
  {
   "cell_type": "code",
   "execution_count": 17,
   "id": "30f0b7c1",
   "metadata": {},
   "outputs": [
    {
     "name": "stdout",
     "output_type": "stream",
     "text": [
      "my ame is deeak"
     ]
    }
   ],
   "source": [
    "data=\"my name is\\tnp deepak\\t\"\n",
    "lst=[]\n",
    "for i in data:\n",
    "    if i not in \"\\tnp\":\n",
    "        print(i,end=\"\")\n"
   ]
  },
  {
   "cell_type": "code",
   "execution_count": 3,
   "id": "f0d08af7",
   "metadata": {},
   "outputs": [
    {
     "name": "stdout",
     "output_type": "stream",
     "text": [
      "Enter the number: 12\n",
      "1 1 2 3 5 8 13 21 34 55 89 144 "
     ]
    }
   ],
   "source": [
    "n=int(input('Enter the number: '))\n",
    "a,b=0,1\n",
    "c=0\n",
    "for i in range(n):\n",
    "    a=b\n",
    "    b=c\n",
    "    c=a+b\n",
    "    print(c,end=\" \")\n",
    "# fibonaccie"
   ]
  },
  {
   "cell_type": "code",
   "execution_count": 8,
   "id": "69971d43",
   "metadata": {},
   "outputs": [
    {
     "name": "stdout",
     "output_type": "stream",
     "text": [
      "Enter the number: 55\n",
      "it is palidrom\n"
     ]
    }
   ],
   "source": [
    "n=int(input('Enter the number: '))\n",
    "data=n\n",
    "count=0\n",
    "while n>0:\n",
    "    digit=n%10\n",
    "    count=count*10+digit\n",
    "    n//=10\n",
    "if data==count:\n",
    "    print('it is palidrom')\n",
    "else:\n",
    "    print('not')"
   ]
  },
  {
   "cell_type": "code",
   "execution_count": 21,
   "id": "423a0866",
   "metadata": {},
   "outputs": [
    {
     "name": "stdout",
     "output_type": "stream",
     "text": [
      "Enter the number121\n",
      "121 it is palidroms\n"
     ]
    }
   ],
   "source": [
    "data=int(input('Enter the number'))\n",
    "n=data\n",
    "reverse=0\n",
    "while (data>0):\n",
    "    dig=data%10\n",
    "    reverse=reverse*10+dig\n",
    "    data//=10\n",
    "if n==reverse:\n",
    "    print(f'{reverse} it is palidroms')\n",
    "else:\n",
    "    print(f'{reverse} not palidroms')"
   ]
  },
  {
   "cell_type": "code",
   "execution_count": 23,
   "id": "3b28c107",
   "metadata": {},
   "outputs": [
    {
     "name": "stdout",
     "output_type": "stream",
     "text": [
      "Enter the number: 12345\n",
      "54321 not palidrom\n"
     ]
    }
   ],
   "source": [
    "def data(n):\n",
    "    data=n\n",
    "    reverse=0\n",
    "    while(n>0):\n",
    "        dig=n%10\n",
    "        reverse=reverse*10+dig\n",
    "        n//=10\n",
    "    if data==reverse:\n",
    "        print(f\"{reverse} it is palidroms\")\n",
    "    else:\n",
    "        print(f\"{reverse} not palidrom\")\n",
    "n=int(input('Enter the number: '))\n",
    "data(n)"
   ]
  },
  {
   "cell_type": "code",
   "execution_count": 85,
   "id": "3e97f084",
   "metadata": {},
   "outputs": [
    {
     "name": "stdout",
     "output_type": "stream",
     "text": [
      " deepak sahani good coder\n"
     ]
    },
    {
     "data": {
      "text/plain": [
       "['deepak', 'sahani', 'good', 'coder']"
      ]
     },
     "execution_count": 85,
     "metadata": {},
     "output_type": "execute_result"
    }
   ],
   "source": [
    "a=\" deepak                   sahani                  good coder\"\n",
    "import re\n",
    "\n",
    "for i in a:\n",
    "    patt=\"\\s+\"\n",
    "    match=re.sub(patt,\" \",a)\n",
    "print(match)\n",
    "\n",
    "# lst=[]\n",
    "\n",
    "res=a.split()\n",
    "res\n"
   ]
  },
  {
   "cell_type": "code",
   "execution_count": 40,
   "id": "f3e8450e",
   "metadata": {},
   "outputs": [
    {
     "name": "stdout",
     "output_type": "stream",
     "text": [
      "st\n",
      "st\n",
      "[10, 78, 100]\n",
      "[55, 89, 67]\n",
      "[(5+3j)]\n"
     ]
    }
   ],
   "source": [
    "a=[10,55,89,67,78,100,5+3j,\"string\",12.00]\n",
    "even=[]\n",
    "odd=[]\n",
    "complexs=[]\n",
    "for i in a:\n",
    "    if isinstance(i,int) and i%2==0:\n",
    "        even.append(i)\n",
    "    elif isinstance (i,int) and i%2!=0:\n",
    "        odd.append(i)\n",
    "    elif isinstance(i,complex):\n",
    "        complexs.append(i)\n",
    "    else:\n",
    "        print('st')\n",
    "print(even)\n",
    "print(odd)\n",
    "print(complexs)"
   ]
  },
  {
   "cell_type": "code",
   "execution_count": 29,
   "id": "b7bad2d6",
   "metadata": {},
   "outputs": [
    {
     "name": "stdout",
     "output_type": "stream",
     "text": [
      "(3+5j)\n"
     ]
    }
   ],
   "source": [
    "a=3+5j\n",
    "print(a)"
   ]
  },
  {
   "cell_type": "code",
   "execution_count": 33,
   "id": "981506ef",
   "metadata": {},
   "outputs": [
    {
     "name": "stdout",
     "output_type": "stream",
     "text": [
      "[10, 20, 30]\n"
     ]
    }
   ],
   "source": [
    "data=[10,[20],[30]]\n",
    "lst=[]\n",
    "for i in data:\n",
    "    if isinstance(i,list):\n",
    "        for j in i:\n",
    "            lst.append(j)\n",
    "    else:\n",
    "        lst.append(i)\n",
    "print(lst)\n",
    "            \n",
    "   \n",
    "    "
   ]
  },
  {
   "cell_type": "code",
   "execution_count": 9,
   "id": "a1223941",
   "metadata": {},
   "outputs": [
    {
     "name": "stdout",
     "output_type": "stream",
     "text": [
      "[10, 20, 50, 100, 20]\n"
     ]
    }
   ],
   "source": [
    "\n",
    "p=[]\n",
    "def data(lst):\n",
    "    for i in lst:\n",
    "        if isinstance(i,list):\n",
    "            data(i)\n",
    "        else:\n",
    "            p.append(i)\n",
    "\n",
    "datai=[10,[20],[[50]],[[[[[100],[20]]]]]]\n",
    "data(datai)\n",
    "print(p)"
   ]
  },
  {
   "cell_type": "code",
   "execution_count": null,
   "id": "e5aded36",
   "metadata": {},
   "outputs": [],
   "source": [
    "lst=[]\n",
    "def mydata(lst):\n",
    "    for i in lst:\n",
    "        if isinstance(i,list):\n",
    "            mydata(i)\n",
    "        else:\n",
    "            lst.append(i)\n",
    "a=[[50,12],[[56]],[[89]]]\n",
    "mydata(a)\n",
    "print(lst)"
   ]
  },
  {
   "cell_type": "code",
   "execution_count": 18,
   "id": "7d56ae20",
   "metadata": {},
   "outputs": [
    {
     "name": "stdout",
     "output_type": "stream",
     "text": [
      "25\n",
      "85\n",
      "99\n"
     ]
    }
   ],
   "source": [
    "a=(12,23,25,45)\n",
    "b=(45,12,85,99,23)\n",
    "lst=[]\n",
    "for i in a:\n",
    "    if i not in b:\n",
    "        print(i)\n",
    "for i in b:\n",
    "    if i not in a:\n",
    "        print(i)"
   ]
  },
  {
   "cell_type": "code",
   "execution_count": 22,
   "id": "414d7d10",
   "metadata": {},
   "outputs": [
    {
     "data": {
      "text/plain": [
       "[25, 85, 99]"
      ]
     },
     "execution_count": 22,
     "metadata": {},
     "output_type": "execute_result"
    }
   ],
   "source": [
    "res=[i for i in a if i not in b]+[i for i in b if i not in a]\n",
    "res"
   ]
  },
  {
   "cell_type": "code",
   "execution_count": 24,
   "id": "49b715c6",
   "metadata": {},
   "outputs": [
    {
     "data": {
      "text/plain": [
       "[12, 23, 45]"
      ]
     },
     "execution_count": 24,
     "metadata": {},
     "output_type": "execute_result"
    }
   ],
   "source": [
    "res=[i for i in a for j in b if i==j]\n",
    "res"
   ]
  },
  {
   "cell_type": "code",
   "execution_count": 31,
   "id": "a5f7b923",
   "metadata": {},
   "outputs": [
    {
     "name": "stdout",
     "output_type": "stream",
     "text": [
      "m\n",
      "y\n",
      "n\n",
      "a\n",
      "m\n",
      "e\n",
      "i\n",
      "s\n",
      "d\n",
      "e\n",
      "e\n",
      "p\n",
      "a\n",
      "k\n",
      "s\n",
      "h\n",
      "a\n",
      "n\n",
      "i\n",
      "1\n",
      "2\n",
      "4\n",
      "5\n"
     ]
    }
   ],
   "source": [
    "data=\"my name is deepak shani1245\"\n",
    "for i in data:\n",
    "    if i.isdigit():\n",
    "        print(i)\n",
    "    elif i.isalpha():\n",
    "        print(i)\n",
    "        "
   ]
  },
  {
   "cell_type": "code",
   "execution_count": 16,
   "id": "a8fe4603",
   "metadata": {},
   "outputs": [
    {
     "name": "stdout",
     "output_type": "stream",
     "text": [
      "my name is raman "
     ]
    }
   ],
   "source": [
    "data=[12,\"my\",\"name\",\"is\",\"raman\"]\n",
    "for i in data:\n",
    "    if isinstance(i,str):\n",
    "        print(i,end=\" \")"
   ]
  },
  {
   "cell_type": "code",
   "execution_count": 2,
   "id": "10d523dc",
   "metadata": {},
   "outputs": [
    {
     "name": "stdout",
     "output_type": "stream",
     "text": [
      "0 12\n",
      "1 my\n",
      "2 name\n",
      "3 is\n",
      "4 raman\n",
      "===============================================================\n",
      "{12: 10, 'my': 20, 'name': 30}\n",
      "===============================================================\n",
      "(12, 'my', 'name', 'is', 'raman', 10, 20, 30)\n",
      "12 10\n",
      "my 20\n",
      "name 30\n"
     ]
    }
   ],
   "source": [
    "data = [12, \"my\", \"name\", \"is\", \"raman\"]\n",
    "mydata=[10,20,30]\n",
    "\n",
    "for i in range(len(data)):\n",
    "    print(i,data[i])\n",
    "\n",
    "print(\"===============================================================\")  \n",
    "\n",
    "res=dict(zip(data,mydata))\n",
    "print(res)\n",
    "\n",
    "print(\"===============================================================\")\n",
    "    \n",
    "print(tuple(data+mydata))\n",
    "    \n",
    "for key,value in zip(data,mydata):\n",
    "    print(key,value)"
   ]
  },
  {
   "cell_type": "code",
   "execution_count": 64,
   "id": "59f6f3fc",
   "metadata": {},
   "outputs": [
    {
     "name": "stdout",
     "output_type": "stream",
     "text": [
      "<class 'list'>\n",
      "[12, 20, 23, 45, 60]\n"
     ]
    }
   ],
   "source": [
    "data=[12,20,23,45,60,\"myname is deepak\",3+5j,2.00,{1,2,3}]\n",
    "print(type(data))\n",
    "lst=[]\n",
    "for i in data:\n",
    "    if isinstance(i,int):\n",
    "        lst.append(i)\n",
    "print(lst)"
   ]
  },
  {
   "cell_type": "code",
   "execution_count": 52,
   "id": "0b66c226",
   "metadata": {},
   "outputs": [
    {
     "name": "stdout",
     "output_type": "stream",
     "text": [
      "(2+5j)\n"
     ]
    }
   ],
   "source": [
    "data=complex(2,5)\n",
    "print(data)"
   ]
  },
  {
   "cell_type": "code",
   "execution_count": 69,
   "id": "7d47d1f0",
   "metadata": {},
   "outputs": [
    {
     "name": "stdout",
     "output_type": "stream",
     "text": [
      "122023456035200123"
     ]
    }
   ],
   "source": [
    "lst=\"12,20,23,45,60,'myname is deepak',3+5j,2.00,{1,2,3}\"\n",
    "for i in lst:\n",
    "    if i.isdigit():\n",
    "        print(i,end=\"\")"
   ]
  },
  {
   "cell_type": "code",
   "execution_count": 23,
   "id": "de287a41",
   "metadata": {},
   "outputs": [
    {
     "name": "stdout",
     "output_type": "stream",
     "text": [
      "['my name ,is deepak']\n"
     ]
    }
   ],
   "source": [
    "data=[12,20,23,45,60,\"my name ,is deepak\",3+5j,2.00,{1,2,3}]\n",
    "lst=[]\n",
    "for i in data:\n",
    "    if isinstance(i,str):\n",
    "        lst.append(i)\n",
    "print(lst)"
   ]
  },
  {
   "cell_type": "code",
   "execution_count": 19,
   "id": "c37da920",
   "metadata": {},
   "outputs": [
    {
     "name": "stdout",
     "output_type": "stream",
     "text": [
      "['my', 'name', 'is', 'deepak']\n",
      "my nameis deepak \n"
     ]
    }
   ],
   "source": [
    "data=\"my .name,is                deepak                          \"\n",
    "import re\n",
    "patt=\"[a-z]+\"\n",
    "match=re.findall(patt,data)\n",
    "print(match)\n",
    "\n",
    "\n",
    "patt=\"\\s+\"\n",
    "match=re.sub(patt,\" \",data).replace(\",\",\"\").replace(\".\",\"\")\n",
    "print(match)"
   ]
  },
  {
   "cell_type": "code",
   "execution_count": 28,
   "id": "b8a990e5",
   "metadata": {},
   "outputs": [
    {
     "name": "stdout",
     "output_type": "stream",
     "text": [
      "my name is deepak                          "
     ]
    }
   ],
   "source": [
    "data=\"my .name, is deepak                          \"\n",
    "for i in data:\n",
    "    if i not in \".,\".strip():\n",
    "        print(i,end=\"\")"
   ]
  },
  {
   "cell_type": "code",
   "execution_count": 5,
   "id": "1c6b0614",
   "metadata": {},
   "outputs": [
    {
     "name": "stdout",
     "output_type": "stream",
     "text": [
      "my name is deepak my name is neeta\n"
     ]
    }
   ],
   "source": [
    "a=\"my name is deepak\"+\" \"+\"my name is neeta\"\n",
    "print(a)"
   ]
  },
  {
   "cell_type": "code",
   "execution_count": 10,
   "id": "45a6f1c6",
   "metadata": {},
   "outputs": [
    {
     "data": {
      "text/plain": [
       "[10, 40]"
      ]
     },
     "execution_count": 10,
     "metadata": {},
     "output_type": "execute_result"
    }
   ],
   "source": [
    "a=[10,20,40]\n",
    "b=[30,40,10]\n",
    "\n",
    "res=[i for i in a for j in b if i==j]\n",
    "res"
   ]
  },
  {
   "cell_type": "code",
   "execution_count": 35,
   "id": "e52b6bd0",
   "metadata": {},
   "outputs": [],
   "source": [
    "data = [10, [[20]], [30], 10,[[[[[[[[25]]]]]]]]]\n"
   ]
  },
  {
   "cell_type": "code",
   "execution_count": 28,
   "id": "7d62bb31",
   "metadata": {},
   "outputs": [
    {
     "name": "stdout",
     "output_type": "stream",
     "text": [
      "[10, 20, 30, 55]\n"
     ]
    }
   ],
   "source": [
    "data=[10,20,30,10,20,55]\n",
    "lst=[]\n",
    "for i in data:\n",
    "    if i not in lst:\n",
    "        lst.append(i)\n",
    "        \n",
    "print(lst)"
   ]
  },
  {
   "cell_type": "code",
   "execution_count": 1,
   "id": "3979c2ea",
   "metadata": {},
   "outputs": [
    {
     "name": "stdout",
     "output_type": "stream",
     "text": [
      "10\n"
     ]
    }
   ],
   "source": [
    "a=10\n",
    "print(a)"
   ]
  },
  {
   "cell_type": "code",
   "execution_count": 10,
   "id": "096ce3e7",
   "metadata": {},
   "outputs": [
    {
     "name": "stdout",
     "output_type": "stream",
     "text": [
      "[10, 20, 50, 30]\n"
     ]
    }
   ],
   "source": [
    "data=[10,20,[50],[30],[50]]\n",
    "lst=[]\n",
    "for i in data:\n",
    "    if isinstance(i,list):\n",
    "        for item in i:\n",
    "            if item  not in lst:\n",
    "                lst.append(item)\n",
    "    else:\n",
    "        lst.append(i)\n",
    "print(lst)"
   ]
  },
  {
   "cell_type": "code",
   "execution_count": 13,
   "id": "1690e9d8",
   "metadata": {},
   "outputs": [
    {
     "name": "stdout",
     "output_type": "stream",
     "text": [
      "my name is deepak"
     ]
    }
   ],
   "source": [
    "data=\"my name is deepak@#$%\"\n",
    "for i in data:\n",
    "    if i not in \"@#$%\":\n",
    "        print(i,end=\"\")"
   ]
  },
  {
   "cell_type": "code",
   "execution_count": 17,
   "id": "42aae4cb",
   "metadata": {},
   "outputs": [
    {
     "name": "stdout",
     "output_type": "stream",
     "text": [
      "Enter the number: my name is deepak\n",
      "3\n"
     ]
    }
   ],
   "source": [
    "data=input('Enter the number: ')\n",
    "s=0\n",
    "for i in data:\n",
    "    if i==\" \":\n",
    "        s+=1\n",
    "print(s)"
   ]
  },
  {
   "cell_type": "code",
   "execution_count": 7,
   "id": "70c24dce",
   "metadata": {},
   "outputs": [
    {
     "name": "stdout",
     "output_type": "stream",
     "text": [
      "12\n",
      "deepak\n"
     ]
    }
   ],
   "source": [
    "data=[12,\"deepak\"]\n",
    "for i in data:\n",
    "    if isinstance(i,int) or isinstance(i,str):\n",
    "        print(i)"
   ]
  },
  {
   "cell_type": "code",
   "execution_count": 19,
   "id": "a405854d",
   "metadata": {},
   "outputs": [
    {
     "name": "stdout",
     "output_type": "stream",
     "text": [
      "25\n"
     ]
    }
   ],
   "source": [
    "a=[25,30]\n",
    "b=[45,65,25]\n",
    "for i in a:\n",
    "    for j in b:\n",
    "        if i==j:\n",
    "            print(i)"
   ]
  },
  {
   "cell_type": "code",
   "execution_count": 21,
   "id": "6a8b2336",
   "metadata": {},
   "outputs": [
    {
     "name": "stdout",
     "output_type": "stream",
     "text": [
      "@\n",
      "#\n",
      "&\n"
     ]
    }
   ],
   "source": [
    "data=\"my name is deepak@#&\"\n",
    "for i in data:\n",
    "    if i in \"@#&\":\n",
    "        print(i)"
   ]
  },
  {
   "cell_type": "code",
   "execution_count": 35,
   "id": "7f7d2bbe",
   "metadata": {},
   "outputs": [
    {
     "name": "stdout",
     "output_type": "stream",
     "text": [
      "12\n",
      "/1/2/5/4/5/8/7/8/\n"
     ]
    }
   ],
   "source": [
    "data=[12,25,77,99]\n",
    "for i in data:\n",
    "    if i%2==0:\n",
    "        print(i)\n",
    "a=\"12545878\"\n",
    "res=a.replace(\"\",\"/\")\n",
    "print((res))"
   ]
  },
  {
   "cell_type": "code",
   "execution_count": 50,
   "id": "97f50cdd",
   "metadata": {},
   "outputs": [
    {
     "name": "stdout",
     "output_type": "stream",
     "text": [
      "@#\n"
     ]
    }
   ],
   "source": [
    "a=[\"deepak\",'@#']\n",
    "for i in a:\n",
    "    if i in \"@#\":\n",
    "        print(i)"
   ]
  },
  {
   "cell_type": "code",
   "execution_count": 48,
   "id": "1c8c530f",
   "metadata": {},
   "outputs": [
    {
     "name": "stdout",
     "output_type": "stream",
     "text": [
      "400101"
     ]
    }
   ],
   "source": [
    "data=\"my name is deepak this is my idnumber 400101\"\n",
    "for i in data:\n",
    "    if i.isdigit():\n",
    "        print(i,end=\"\")"
   ]
  },
  {
   "cell_type": "code",
   "execution_count": 21,
   "id": "5fca51e8",
   "metadata": {},
   "outputs": [
    {
     "name": "stdout",
     "output_type": "stream",
     "text": [
      "deepak\n",
      "25\n",
      "(3+5j)\n",
      "=========================\n",
      "deepak\n",
      "25\n"
     ]
    }
   ],
   "source": [
    "a=[\"deepak\",'@#',25,3+5j]\n",
    "for i in a:\n",
    "    if isinstance(i,int)  or isinstance(i,complex) or i not in \"@#\":\n",
    "        print(i)\n",
    "print(\"=========================\")\n",
    "\n",
    "for i in a:\n",
    "    if i not in ([\"@#\",3+5j]):\n",
    "        print(i)"
   ]
  },
  {
   "cell_type": "code",
   "execution_count": 5,
   "id": "2573171e",
   "metadata": {},
   "outputs": [
    {
     "name": "stdout",
     "output_type": "stream",
     "text": [
      "         1 \n",
      "        \n",
      "       3 3 3 \n",
      "      \n",
      "     5 5 5 5 5 \n",
      "    \n",
      "   7 7 7 7 7 7 7 \n",
      "  \n",
      " 9 9 9 9 9 9 9 9 9 \n"
     ]
    }
   ],
   "source": [
    "for i in range(1,10):\n",
    "    for j in range(10-i):\n",
    "        print(\" \",end=\"\")\n",
    "    for k in range(i):\n",
    "        if i%2!=0:\n",
    "            print(f\"{i} \",end=\"\")\n",
    "    print()"
   ]
  },
  {
   "cell_type": "code",
   "execution_count": 83,
   "id": "cd5d71b9",
   "metadata": {},
   "outputs": [
    {
     "name": "stdout",
     "output_type": "stream",
     "text": [
      "ambc"
     ]
    }
   ],
   "source": [
    "data=[\"apple\",\"mango\",\"banana\",\"coder\"]\n",
    "for i in data:\n",
    "    data=i[0]\n",
    "    print(data,end=\"\")"
   ]
  },
  {
   "cell_type": "code",
   "execution_count": 3,
   "id": "31779616",
   "metadata": {},
   "outputs": [
    {
     "name": "stdout",
     "output_type": "stream",
     "text": [
      "['Apple', 'Mango', 'Banana', 'Coder']\n",
      "['Apple', 'Mango', 'Banana', 'Coder']\n",
      "['APPLE', 'MANGO', 'BANANA', 'CODER']\n"
     ]
    }
   ],
   "source": [
    "data=[\"apple\",\"mango\",\"banana\",\"coder\"]\n",
    "res=map(lambda a:a.capitalize(),data)\n",
    "print(list(res))\n",
    "lst=[]\n",
    "for i in data:\n",
    "    lst.append(i.capitalize())\n",
    "print(lst)\n",
    "data=map(lambda a:a.upper(),data)\n",
    "print(list(data))"
   ]
  },
  {
   "cell_type": "code",
   "execution_count": null,
   "id": "0d554543",
   "metadata": {},
   "outputs": [],
   "source": []
  },
  {
   "cell_type": "code",
   "execution_count": 76,
   "id": "a6409e71",
   "metadata": {},
   "outputs": [
    {
     "name": "stdout",
     "output_type": "stream",
     "text": [
      "apple\n",
      "mango\n",
      "banana\n"
     ]
    }
   ],
   "source": [
    "mydata=[\"apple\",\"mango\",\"banana\",\"Coder\"]\n",
    "for i in mydata:\n",
    "    if i.islower():\n",
    "        print(i)"
   ]
  },
  {
   "cell_type": "code",
   "execution_count": 50,
   "id": "17579ba9",
   "metadata": {},
   "outputs": [
    {
     "name": "stdout",
     "output_type": "stream",
     "text": [
      "[4, 8, 10]\n"
     ]
    }
   ],
   "source": [
    "data=[2,4,5]\n",
    "res=list(map(lambda a:a*2,data))\n",
    "print(res)"
   ]
  },
  {
   "cell_type": "code",
   "execution_count": 55,
   "id": "6c7dc2b2",
   "metadata": {},
   "outputs": [
    {
     "data": {
      "text/plain": [
       "{10: 'deepak', 20: 'sahani', 30: 25}"
      ]
     },
     "execution_count": 55,
     "metadata": {},
     "output_type": "execute_result"
    }
   ],
   "source": [
    "a=[10,20,30]\n",
    "b=[\"deepak\",\"sahani\",25,45]\n",
    "res=dict(zip(a,b))\n",
    "res"
   ]
  },
  {
   "cell_type": "code",
   "execution_count": 56,
   "id": "8a88b669",
   "metadata": {},
   "outputs": [
    {
     "data": {
      "text/plain": [
       "['apple']"
      ]
     },
     "execution_count": 56,
     "metadata": {},
     "output_type": "execute_result"
    }
   ],
   "source": [
    "a=[\"app\"]\n",
    "b=[\"le\"]\n",
    "res=[k+v for k,v in zip(a,b)]\n",
    "res"
   ]
  },
  {
   "cell_type": "code",
   "execution_count": 58,
   "id": "8f1fc741",
   "metadata": {},
   "outputs": [
    {
     "data": {
      "text/plain": [
       "(45, 560, 100, 200, 'deepak')"
      ]
     },
     "execution_count": 58,
     "metadata": {},
     "output_type": "execute_result"
    }
   ],
   "source": [
    "lst=[45,560]\n",
    "data=[100,200,\"deepak\"]\n",
    "res=tuple(lst+data)\n",
    "res"
   ]
  },
  {
   "cell_type": "code",
   "execution_count": 41,
   "id": "43dc3cee",
   "metadata": {},
   "outputs": [
    {
     "name": "stdout",
     "output_type": "stream",
     "text": [
      "['Deepak']\n",
      "[<DirEntry 'conditional.java'>, <DirEntry 'deepak.class'>, <DirEntry 'firstit.java'>, <DirEntry 'firstprogram.class'>, <DirEntry 'firstprograming.java'>, <DirEntry 'ifelse.java'>, <DirEntry 'practical.java'>, <DirEntry 'program2.java'>, <DirEntry 'programers.class'>, <DirEntry 'raj.class'>]\n"
     ]
    }
   ],
   "source": [
    "data=[\"deepak\",\"sahani\"]\n",
    "lst=[]\n",
    "for i in data:\n",
    "    if i==\"deepak\":\n",
    "        lst.append(i.capitalize())\n",
    "print(lst)\n",
    "\n",
    "import os\n",
    "data=os.listdir()\n",
    "data\n",
    "# a=os.getcwd()\n",
    "# print(a)\n",
    "# with open(r\"C:\\Users\\ARVIND\\deepak.ipynb\",\"r\") as e:\n",
    "#     data=e.read()\n",
    "#     print(data,end=\"\")\n",
    "\n",
    "data=os.scandir(r\"C:\\\\Users\\\\ARVIND\\\\OneDrive\\\\Desktop\\\\Basic java\")\n",
    "print(list(data))"
   ]
  },
  {
   "cell_type": "code",
   "execution_count": 39,
   "id": "4947cef2",
   "metadata": {},
   "outputs": [
    {
     "name": "stdout",
     "output_type": "stream",
     "text": [
      "import java.util.Scanner;\n",
      "/*class raj{\n",
      "\n",
      "\tpublic static void main(String[] args){\n",
      "\t\n",
      "\tScanner sc=new Scanner(System.in);\n",
      "\tSystem.out.println('Enter the number: ')\n",
      "\tint a=sc.nextInt();\n",
      "\tint b=sc.nextInt();\n",
      "\tif (a>b){\n",
      "\t\t\n",
      "\tSystem.out.println(a+\" is greater\");\n",
      "\t\n",
      "\t}\n",
      "\telse{\n",
      "\t\tSystem.out.println(b+\" is greater \");\n",
      "\t}\n",
      "\t\n",
      "\t}\n",
      "}*/\n",
      "\n",
      "/*class raj{\n",
      "\n",
      "\tpublic static void main(String[] args){\n",
      "\t\n",
      "\tScanner sc=new Scanner(System.in);\n",
      "\tSystem.out.println(\"Enter the number: \");\n",
      "\tint a=sc.nextInt();\n",
      "\tif (a%2==0)\n",
      "\t{\n",
      "\t\tSystem.out.println(a+\"it is even number\");\n",
      "\t\tif(a%7==0)\n",
      "\t\t{\n",
      "\t\t\tSystem.out.println(\"it is multple of 7\");\n",
      "\t\t}\n",
      "\t\telse\n",
      "\t\t{\n",
      "\t\tSystem.out.println(\"it is not multiple of 7\");\n",
      "\t\t}\n",
      "\t\n",
      "\t}\n",
      "\telse\n",
      "\t{\n",
      "\t\tSystem.out.println(\"it is odd number\");\n",
      "\t}\n",
      "\t\n",
      "\t}\n",
      "}*/\n",
      "\n",
      "/*class raj{\n",
      "\n",
      "\tpublic static void main(String[] args){\n",
      "\t\n",
      "\tScanner sc=new Scanner(System.in);\n",
      "\tSystem.out.println(\"Enter the number:\");\n",
      "\tint a=sc.nextInt();\n",
      "\tif (a==1){\n",
      "\t\t\n",
      "\tSystem.out.println(\"Namastey\");\n",
      "\t\n",
      "\t}\n",
      "\telse if(a==2){\n",
      "\t\tSystem.out.println(\"Deepak\");\n",
      "\t}\n",
      "\telse if(a==3){\n",
      "\t\tSystem.out.println(\"good evening\");\n",
      "\t\t\n",
      "\t}\n",
      "\telse{\n",
      "\t\tSystem.out.println(\"good night\");\n",
      "\t}\n",
      "\t\n",
      "\t}\n",
      "}*/\n",
      "\n",
      "class raj{\n",
      "\n",
      "\tpublic static void main(String[] args){\n",
      "\t\n",
      "\tScanner sc=new Scanner(System.in);\n",
      "\tSystem.out.println(\"Enter the number: \");\n",
      "\tint a=sc.nextInt();\n",
      "\tint b=sc.nextInt();\n",
      "\t\n",
      "\tSystem.out.println(\"1:for addition\");\n",
      "\tSystem.out.println(\"2:for sub\");\n",
      "\tSystem.out.println(\"3:for mul\");\n",
      "\tSystem.out.println(\"4:for div\");\n",
      "\t\n",
      "\tint c=sc.nextInt();\n",
      "\t\n",
      "\tif (c==1){\n",
      "\t\t\n",
      "\tSystem.out.println(\"it is addition of two\"+(a+b));\n",
      "\t\n",
      "\t}\n",
      "\telse if(c==2){\n",
      "\t\tSystem.out.println(\" it is subraction\"+(a-b));\n",
      "\t}\n",
      "\telse if(c==3){\n",
      "\t\tSystem.out.println(\"it is multiplications\"+(a*b));\n",
      "\t}\n",
      "\telse{\n",
      "\t\tSystem.out.println(\"invalid data\");\n",
      "\t}\n",
      "\t\n",
      "\t}\n",
      "}\n",
      "\n"
     ]
    }
   ],
   "source": [
    "with open(r\"C:\\\\Users\\\\ARVIND\\\\OneDrive\\\\Desktop\\\\Basic java\\\\conditional.java\",\"r\") as e:\n",
    "    data=e.read()\n",
    "    print(data)"
   ]
  },
  {
   "cell_type": "code",
   "execution_count": 49,
   "id": "fb22afd0",
   "metadata": {},
   "outputs": [
    {
     "data": {
      "text/plain": [
       "{'myname': 'coder'}"
      ]
     },
     "execution_count": 49,
     "metadata": {},
     "output_type": "execute_result"
    }
   ],
   "source": [
    "data=[\"myname\"]\n",
    "p=[\"coder\"]\n",
    "res=dict(zip(data,p))\n",
    "res\n"
   ]
  },
  {
   "cell_type": "code",
   "execution_count": 70,
   "id": "f3eb7fb0",
   "metadata": {},
   "outputs": [
    {
     "name": "stdout",
     "output_type": "stream",
     "text": [
      "['y', 'o', 'y', 'o']\n"
     ]
    }
   ],
   "source": [
    "data=[\"myname\",\"my\"]\n",
    "p=[\"coder\"]\n",
    "lst=[]\n",
    "for i in data:\n",
    "    for j in p:\n",
    "        lst.append(i[1][0]) or lst.append(j[1])\n",
    "print(lst)"
   ]
  },
  {
   "cell_type": "code",
   "execution_count": null,
   "id": "a3da64b9",
   "metadata": {},
   "outputs": [],
   "source": []
  },
  {
   "cell_type": "code",
   "execution_count": 33,
   "id": "47d93dc1",
   "metadata": {},
   "outputs": [
    {
     "name": "stdout",
     "output_type": "stream",
     "text": [
      "Enter the number: 7738669775\n",
      "65\n"
     ]
    }
   ],
   "source": [
    "data=input('Enter the number: ')\n",
    "lst=[]\n",
    "for i in data:\n",
    "    lst.append(int(i))\n",
    "print(sum(lst))"
   ]
  },
  {
   "cell_type": "code",
   "execution_count": 88,
   "id": "21207d5a",
   "metadata": {},
   "outputs": [
    {
     "name": "stdout",
     "output_type": "stream",
     "text": [
      "Enter the sum of number: 45789566\n",
      "50\n",
      "==============\n",
      "9\n"
     ]
    }
   ],
   "source": [
    "data=input('Enter the sum of number: ')\n",
    "t=0\n",
    "for i in data:\n",
    "    t+=int(i)\n",
    "print(t)\n",
    "print(\"==============\")\n",
    "data=[4,5]\n",
    "total=0\n",
    "for i in data:\n",
    "    total+=i\n",
    "print(total)"
   ]
  },
  {
   "cell_type": "code",
   "execution_count": 45,
   "id": "187399ce",
   "metadata": {},
   "outputs": [
    {
     "name": "stdout",
     "output_type": "stream",
     "text": [
      "9\n"
     ]
    }
   ],
   "source": [
    "data=[4,5]\n",
    "print(sum(data))"
   ]
  },
  {
   "cell_type": "code",
   "execution_count": 68,
   "id": "6ff0d3c3",
   "metadata": {},
   "outputs": [
    {
     "name": "stdout",
     "output_type": "stream",
     "text": [
      "Enter the sum number: 45\n",
      "2\n",
      "===========================\n",
      "Enter the sum number: 78\n",
      "15\n",
      "===========================\n",
      "3\n"
     ]
    }
   ],
   "source": [
    "# this program for count method\n",
    "data=input('Enter the sum number: ')\n",
    "total=0\n",
    "for i in data:\n",
    "    total+=1\n",
    "print(total)\n",
    "\n",
    "print(\"===========================\")\n",
    "\n",
    "# this is for sum of number\n",
    "data=input('Enter the sum number: ')\n",
    "total=0\n",
    "for i in data:\n",
    "    total+=int(i)\n",
    "print(total)\n",
    "\n",
    "print(\"===========================\")\n",
    "\n",
    "# this is also count list of number\n",
    "lst=[12,23,45]\n",
    "count=0\n",
    "for i in lst:\n",
    "    count+=1\n",
    "print(count)\n",
    "\n",
    "    \n"
   ]
  },
  {
   "cell_type": "code",
   "execution_count": 76,
   "id": "35e8f940",
   "metadata": {},
   "outputs": [
    {
     "name": "stdout",
     "output_type": "stream",
     "text": [
      "total 57\n"
     ]
    }
   ],
   "source": [
    "data=[12,45,\"ram\",3+5j]\n",
    "sums=0\n",
    "\n",
    "for i in data:\n",
    "    if isinstance(i,int):\n",
    "        sums+=i\n",
    "print(\"total\",sums)"
   ]
  },
  {
   "cell_type": "code",
   "execution_count": 66,
   "id": "65ca7b6c",
   "metadata": {},
   "outputs": [
    {
     "name": "stdout",
     "output_type": "stream",
     "text": [
      "[10, 20, 50]\n"
     ]
    }
   ],
   "source": [
    "data=[10,20,[[50]]]\n",
    "lst=[]\n",
    "for i in data:\n",
    "    if isinstance(i,int):\n",
    "        lst.append(i)\n",
    "    else:\n",
    "        if isinstance(i,list):\n",
    "            for k in i:\n",
    "                for j in k:\n",
    "                    lst.append(j)\n",
    "print(lst)\n"
   ]
  },
  {
   "cell_type": "code",
   "execution_count": 36,
   "id": "c0e8f1b6",
   "metadata": {},
   "outputs": [
    {
     "name": "stdout",
     "output_type": "stream",
     "text": [
      "[12, 35, 56, 45, 77, 89, 78]\n"
     ]
    }
   ],
   "source": [
    "data=[12,35,56,[45,77],[89,78]]\n",
    "lst=[]\n",
    "for i in data:\n",
    "    if isinstance(i,int):\n",
    "        lst.append(i)\n",
    "    elif isinstance(i,list):\n",
    "        for p in i:\n",
    "            lst.append(p)\n",
    "print(lst)"
   ]
  },
  {
   "cell_type": "code",
   "execution_count": 35,
   "id": "11ce56be",
   "metadata": {},
   "outputs": [
    {
     "name": "stdout",
     "output_type": "stream",
     "text": [
      "Enter the number: my name .,.;'\n",
      "my name \n"
     ]
    }
   ],
   "source": [
    "import string\n",
    "a=string.punctuation\n",
    "data=input('Enter the number: ')\n",
    "f=\"\"\n",
    "for i in data:\n",
    "    if i not in a:\n",
    "        f+=i\n",
    "print(f)\n"
   ]
  },
  {
   "cell_type": "code",
   "execution_count": 12,
   "id": "99607dfe",
   "metadata": {},
   "outputs": [
    {
     "name": "stdout",
     "output_type": "stream",
     "text": [
      "Enter the character: a\n",
      " a it is vowel\n"
     ]
    }
   ],
   "source": [
    "data=input('Enter the character: ')\n",
    "\n",
    "for i in data:\n",
    "    if i.lower() in \"aeiou\":\n",
    "        print(f\" {i} it is vowel\")\n",
    "    else:\n",
    "        print(f\"{i} is not vowel\")"
   ]
  },
  {
   "cell_type": "code",
   "execution_count": 33,
   "id": "a34e3836",
   "metadata": {},
   "outputs": [
    {
     "data": {
      "text/plain": [
       "{10, 50, 90, 99}"
      ]
     },
     "execution_count": 33,
     "metadata": {},
     "output_type": "execute_result"
    }
   ],
   "source": [
    "data={10,50,90}\n",
    "data.update({78,99})\n",
    "data.discard(78)\n",
    "data\n",
    "\n",
    "        "
   ]
  },
  {
   "cell_type": "code",
   "execution_count": 1,
   "id": "af481a1c",
   "metadata": {},
   "outputs": [
    {
     "name": "stdout",
     "output_type": "stream",
     "text": [
      "Enter the number: 1234\n",
      "[2, 3, 4, 5]\n",
      "4\n",
      "10\n"
     ]
    }
   ],
   "source": [
    "data=input('Enter the number: ')\n",
    "lst=[]\n",
    "for i in data:\n",
    "    lst.append(int(i)+1)\n",
    "print(lst)\n",
    "\n",
    "# it is count method\n",
    "count=0\n",
    "for i in data:\n",
    "    count+=1\n",
    "print(count)\n",
    "\n",
    "# it is sum of number\n",
    "total=0\n",
    "for i in data:\n",
    "    total+=int(i)\n",
    "print(total)"
   ]
  },
  {
   "cell_type": "code",
   "execution_count": 20,
   "id": "79c6993e",
   "metadata": {},
   "outputs": [
    {
     "name": "stdout",
     "output_type": "stream",
     "text": [
      "Enter the character: my name is deepak\n",
      "17\n"
     ]
    }
   ],
   "source": [
    "data=input('Enter the character: ')\n",
    "count=0\n",
    "for i in data:\n",
    "    count+=1\n",
    "print(count)\n",
    "    "
   ]
  },
  {
   "cell_type": "code",
   "execution_count": 7,
   "id": "033e22b4",
   "metadata": {},
   "outputs": [
    {
     "name": "stdout",
     "output_type": "stream",
     "text": [
      "0 it is even number 1 not 2 it is even number 3 not 4 it is even number 5 not 6 it is even number 7 not 8 it is even number 9 not 10 it is even number 11 not 12 it is even number 13 not 14 it is even number 15 not 16 it is even number 17 not 18 it is even number 19 not 20 it is even number Even NOT Even NOT Even NOT Even NOT Even NOT Even NOT Even NOT Even NOT Even NOT Even NOT "
     ]
    }
   ],
   "source": [
    "i=0\n",
    "while i<=20:\n",
    "    if(i%2==0):\n",
    "        print(f'{i} it is even number',end=\" \")\n",
    "    else:\n",
    "        print(f'{i} not',end=\" \")\n",
    "    i+=1\n",
    "    \n",
    "for i in range(20):\n",
    "    if (i%2==0):\n",
    "        print('Even',end=\" \")\n",
    "    else:\n",
    "        print('NOT',end=\" \")\n",
    "        "
   ]
  },
  {
   "cell_type": "code",
   "execution_count": 26,
   "id": "5e533e8c",
   "metadata": {},
   "outputs": [
    {
     "name": "stdout",
     "output_type": "stream",
     "text": [
      "K\n",
      "D\n"
     ]
    }
   ],
   "source": [
    "data=[\"arvind\",\"deepak\"]\n",
    "lst=data[::-1]\n",
    "lst\n",
    "for i in lst:\n",
    "    a=i.upper()\n",
    "    print(a[-1])"
   ]
  },
  {
   "cell_type": "code",
   "execution_count": 63,
   "id": "d40d8dcd",
   "metadata": {},
   "outputs": [
    {
     "name": "stdout",
     "output_type": "stream",
     "text": [
      "my name is..deepak/\n"
     ]
    }
   ],
   "source": [
    "data=\"my name is..deepak/\"\n",
    "\n"
   ]
  },
  {
   "cell_type": "code",
   "execution_count": 20,
   "id": "dc5cf3f3",
   "metadata": {},
   "outputs": [
    {
     "name": "stdout",
     "output_type": "stream",
     "text": [
      "Enter the number: 1\n",
      "1 it is palidrom\n"
     ]
    }
   ],
   "source": [
    "data=input('Enter the number: ')\n",
    "ad=int(data[::-1])\n",
    "if int(data)==ad:\n",
    "    print(f'{data} it is palidrom')\n",
    "else:\n",
    "    print(f'{data} not palidrom')"
   ]
  },
  {
   "cell_type": "code",
   "execution_count": 41,
   "id": "43c273c2",
   "metadata": {},
   "outputs": [
    {
     "name": "stdout",
     "output_type": "stream",
     "text": [
      "Enter the number: 5\n",
      "5 it is palidrom number\n"
     ]
    }
   ],
   "source": [
    "data=input('Enter the number: ')\n",
    "ad=int(data[::-1])\n",
    "if int(data)==ad:\n",
    "    print(f'{data} it is palidrom number')\n",
    "else:\n",
    "    print(f'{data} not palidroms number')"
   ]
  },
  {
   "cell_type": "code",
   "execution_count": 19,
   "id": "e704e3db",
   "metadata": {},
   "outputs": [
    {
     "name": "stdout",
     "output_type": "stream",
     "text": [
      "mango\n",
      "orange\n",
      "========================\n",
      "25\n"
     ]
    }
   ],
   "source": [
    "data=[\"apple\",\"mango\",\"orange\",25,3+5j]\n",
    "# lst=[]\n",
    "# for i in data:\n",
    "#     lst.append(i.center(20))\n",
    "# print(lst)\n",
    "\n",
    "# for i in data:\n",
    "#     if str(i).isalnum():\n",
    "#         print(i)\n",
    "# for i in data:\n",
    "#     if str(i).isalnum():\n",
    "#         pass\n",
    "#     else:\n",
    "#         print(i)\n",
    "\n",
    "for i in data:\n",
    "    if i not in ([3+5j,\"apple\",25]):\n",
    "        print(i)\n",
    "print(\"========================\")\n",
    "for i in data:\n",
    "    if str(i).isdigit():\n",
    "        print(i)"
   ]
  },
  {
   "cell_type": "code",
   "execution_count": 89,
   "id": "4e3089e5",
   "metadata": {},
   "outputs": [
    {
     "name": "stdout",
     "output_type": "stream",
     "text": [
      "apple\n",
      "mango\n",
      "orange\n",
      "25\n"
     ]
    }
   ],
   "source": [
    "lst=[]\n",
    "for i in data:\n",
    "    if isinstance(i,int) or isinstance(i,str):\n",
    "        print(i)"
   ]
  },
  {
   "cell_type": "code",
   "execution_count": 23,
   "id": "159c561c",
   "metadata": {},
   "outputs": [
    {
     "data": {
      "text/plain": [
       "'good desi coder'"
      ]
     },
     "execution_count": 23,
     "metadata": {},
     "output_type": "execute_result"
    }
   ],
   "source": [
    "data=(\"good\",\"coder\")\n",
    "test=\" desi \"\n",
    "\n",
    "item=test.join(data)\n",
    "item"
   ]
  },
  {
   "cell_type": "code",
   "execution_count": 29,
   "id": "7eed12ea",
   "metadata": {},
   "outputs": [
    {
     "name": "stdout",
     "output_type": "stream",
     "text": [
      "20\n"
     ]
    }
   ],
   "source": [
    "data=lambda a,b:a*b\n",
    "print(data())"
   ]
  },
  {
   "cell_type": "code",
   "execution_count": 14,
   "id": "c9813e83",
   "metadata": {},
   "outputs": [
    {
     "name": "stdout",
     "output_type": "stream",
     "text": [
      "d\n",
      "a\n",
      "a\n"
     ]
    }
   ],
   "source": [
    "data=\"data\"\n",
    "for i in data:\n",
    "    if i==\"t\":\n",
    "        continue\n",
    "    print(i)"
   ]
  },
  {
   "cell_type": "code",
   "execution_count": 15,
   "id": "6f007089",
   "metadata": {},
   "outputs": [
    {
     "name": "stdout",
     "output_type": "stream",
     "text": [
      "d\n",
      "a\n"
     ]
    }
   ],
   "source": [
    "for i in data:\n",
    "    if i==\"t\":\n",
    "        break\n",
    "    print(i)"
   ]
  },
  {
   "cell_type": "code",
   "execution_count": 30,
   "id": "dd231255",
   "metadata": {},
   "outputs": [
    {
     "name": "stdout",
     "output_type": "stream",
     "text": [
      "Enter the number: 7\n",
      "it is prime number\n"
     ]
    }
   ],
   "source": [
    "# write a program to check prime or note !\n",
    "\n",
    "data=int(input('Enter the number: '))\n",
    "count=0\n",
    "for i in range(1,data+1):\n",
    "    if data%i==0:\n",
    "        count+=1\n",
    "if count==2:\n",
    "    print('it is prime number')\n",
    "else:\n",
    "    print('it is not prime number')\n",
    "        "
   ]
  },
  {
   "cell_type": "code",
   "execution_count": 35,
   "id": "164c3162",
   "metadata": {},
   "outputs": [
    {
     "name": "stdout",
     "output_type": "stream",
     "text": [
      "Enter the number: 5\n",
      "1\n",
      "3\n",
      "6\n",
      "10\n",
      "15\n",
      "15\n"
     ]
    }
   ],
   "source": [
    "data=int(input('Enter the number: '))\n",
    "total=0\n",
    "# for i in range(1,data+1):\n",
    "#     total+=i\n",
    "# print(total)\n",
    "\n",
    "# print(\"================================\")\n",
    "\n",
    "for i in range(1,data+1):\n",
    "    total+=i\n",
    "    print(total)\n",
    "print(total)"
   ]
  },
  {
   "cell_type": "code",
   "execution_count": 25,
   "id": "8297f7a7",
   "metadata": {},
   "outputs": [
    {
     "name": "stdout",
     "output_type": "stream",
     "text": [
      "1\n"
     ]
    }
   ],
   "source": [
    "data=\"mynameis anney\"\n",
    "n=0\n",
    "for i in data:\n",
    "    if i==\" \":\n",
    "        n+=1\n",
    "print(n)"
   ]
  },
  {
   "cell_type": "code",
   "execution_count": 43,
   "id": "ba06fa5f",
   "metadata": {},
   "outputs": [
    {
     "name": "stdout",
     "output_type": "stream",
     "text": [
      "5\n"
     ]
    }
   ],
   "source": [
    "data=[1,2,3,4,5]\n",
    "count=0\n",
    "for i in data:\n",
    "    count+=1\n",
    "print(count)"
   ]
  },
  {
   "cell_type": "code",
   "execution_count": 52,
   "id": "8a8ede79",
   "metadata": {},
   "outputs": [
    {
     "name": "stdout",
     "output_type": "stream",
     "text": [
      "1\n"
     ]
    }
   ],
   "source": [
    "lst=[\" \",12,35,\" \",\"deepak\",[],[],[],3+5j]\n",
    "count=0\n",
    "for i in lst:\n",
    "    if i==3+5j:\n",
    "        count+=1\n",
    "print(count)"
   ]
  },
  {
   "cell_type": "code",
   "execution_count": 56,
   "id": "57ae3d82",
   "metadata": {},
   "outputs": [
    {
     "name": "stdout",
     "output_type": "stream",
     "text": [
      "12\n",
      "45\n",
      "deepak\n"
     ]
    }
   ],
   "source": [
    "lst=[12,45,\"deepak\",3+5j]\n",
    "for i in lst:\n",
    "    if isinstance(i,int) or isinstance(i,str):\n",
    "        print(i)"
   ]
  },
  {
   "cell_type": "code",
   "execution_count": 59,
   "id": "40b26669",
   "metadata": {},
   "outputs": [
    {
     "name": "stdout",
     "output_type": "stream",
     "text": [
      "Enter the number:123\n",
      "6\n"
     ]
    }
   ],
   "source": [
    "data=int(input('Enter the number:'))\n",
    "count=0\n",
    "for i in str(data):\n",
    "    count=count+int(i)\n",
    "print(count)"
   ]
  },
  {
   "cell_type": "code",
   "execution_count": null,
   "id": "67c9436d",
   "metadata": {},
   "outputs": [],
   "source": [
    "data=int(input('Enter the number: '))\n",
    "count=0\n",
    "while(data>0):\n",
    "    data=data//10\n",
    "    count+=1\n",
    "print(count)"
   ]
  },
  {
   "cell_type": "code",
   "execution_count": 9,
   "id": "3a173ace",
   "metadata": {},
   "outputs": [
    {
     "name": "stdout",
     "output_type": "stream",
     "text": [
      "Enter the number: 56\n",
      "2\n"
     ]
    }
   ],
   "source": [
    "\n",
    "data = int(input('Enter the number: '))\n",
    "count = 0\n",
    "\n",
    "# Handle negative numbers\n",
    "if data < 0:\n",
    "    data = abs(data)  # Convert negative number to positive\n",
    "\n",
    "while data > 0:\n",
    "    data = data // 10\n",
    "    count += 1\n",
    "\n",
    "print(count)\n"
   ]
  },
  {
   "cell_type": "code",
   "execution_count": 27,
   "id": "83331572",
   "metadata": {},
   "outputs": [
    {
     "name": "stdout",
     "output_type": "stream",
     "text": [
      "123\n"
     ]
    }
   ],
   "source": [
    "data=123\n",
    "print(data)"
   ]
  },
  {
   "cell_type": "code",
   "execution_count": 53,
   "id": "291d9d45",
   "metadata": {},
   "outputs": [
    {
     "name": "stdout",
     "output_type": "stream",
     "text": [
      "79\n"
     ]
    }
   ],
   "source": [
    "data=[12,23,44]\n",
    "count=0\n",
    "for i in data:\n",
    "    count+=i\n",
    "print(count)\n",
    "    "
   ]
  },
  {
   "cell_type": "code",
   "execution_count": 7,
   "id": "f875dced",
   "metadata": {},
   "outputs": [
    {
     "name": "stdout",
     "output_type": "stream",
     "text": [
      "Enter the number: 456\n",
      "3\n"
     ]
    }
   ],
   "source": [
    "data=int(input('Enter the number: '))\n",
    "count=0\n",
    "if data<0:\n",
    "    data=abs(data)\n",
    "while data>0:\n",
    "    data=data//10\n",
    "    count+=1\n",
    "print(count)"
   ]
  },
  {
   "cell_type": "code",
   "execution_count": 13,
   "id": "3b34663d",
   "metadata": {},
   "outputs": [
    {
     "name": "stdout",
     "output_type": "stream",
     "text": [
      "Enter the number: 12\n",
      "3\n"
     ]
    }
   ],
   "source": [
    "data=input('Enter the number: ')\n",
    "total=0\n",
    "for i in data:\n",
    "    total+=int(i)\n",
    "print(total)\n",
    "    "
   ]
  },
  {
   "cell_type": "code",
   "execution_count": 24,
   "id": "6c6c90f3",
   "metadata": {},
   "outputs": [
    {
     "name": "stdout",
     "output_type": "stream",
     "text": [
      "12 14 35 35\n"
     ]
    }
   ],
   "source": [
    "data=[12,14,35]\n",
    "for i in data:\n",
    "    p=\"\".join(str(i))\n",
    "    print(p,end=\" \")"
   ]
  },
  {
   "cell_type": "code",
   "execution_count": 36,
   "id": "b6e777f3",
   "metadata": {},
   "outputs": [
    {
     "name": "stdout",
     "output_type": "stream",
     "text": [
      "1 x 2= 2\n",
      "3 x 2= 6\n",
      "5 x 2= 10\n",
      "7 x 2= 14\n",
      "9 x 2= 18\n"
     ]
    }
   ],
   "source": [
    "for i in range(1,11):\n",
    "    if(i%2!=0):\n",
    "        data=i*2\n",
    "        print(f\"{i} x 2=\",data)"
   ]
  },
  {
   "cell_type": "code",
   "execution_count": 16,
   "id": "dceae411",
   "metadata": {},
   "outputs": [
    {
     "name": "stdout",
     "output_type": "stream",
     "text": [
      "Enter the numbers: 3\n",
      "3 it is prime number\n"
     ]
    }
   ],
   "source": [
    "data=int(input('Enter the numbers: '))\n",
    "count=0\n",
    "for i in range(1,data+1):\n",
    "    if(data%i==0):\n",
    "        count+=1\n",
    "if(count==2):\n",
    "    print(f'{data} it is prime number')\n",
    "else:\n",
    "    print('{data} it is not prime number')"
   ]
  },
  {
   "cell_type": "code",
   "execution_count": 28,
   "id": "7ba41305",
   "metadata": {},
   "outputs": [
    {
     "name": "stdout",
     "output_type": "stream",
     "text": [
      "Enter the numbers: 7\n",
      "1 1 2 3 5 8 13 21 "
     ]
    }
   ],
   "source": [
    "data=int(input('Enter the numbers: '))\n",
    "a,b=0,1\n",
    "count=0\n",
    "for i in range(data+1):\n",
    "    a=b\n",
    "    b=count\n",
    "    count=a+b\n",
    "    print(count,end=\" \")"
   ]
  },
  {
   "cell_type": "code",
   "execution_count": 16,
   "id": "d5992f22",
   "metadata": {},
   "outputs": [
    {
     "name": "stdout",
     "output_type": "stream",
     "text": [
      "          \n",
      "          1\n",
      "         1 2\n",
      "        1 2 3\n",
      "       1 2 3 4\n",
      "      1 2 3 4 5\n",
      "     1 2 3 4 5 6\n",
      "    1 2 3 4 5 6 7\n",
      "   1 2 3 4 5 6 7 8\n",
      "  1 2 3 4 5 6 7 8 9\n",
      " 1 2 3 4 5 6 7 8 9\n",
      "  1 2 3 4 5 6 7 8\n",
      "   1 2 3 4 5 6 7\n",
      "    1 2 3 4 5 6\n",
      "     1 2 3 4 5\n",
      "      1 2 3 4\n",
      "       1 2 3\n",
      "        1 2\n",
      "         1\n",
      "         \n"
     ]
    }
   ],
   "source": [
    "for i in range(1,11):\n",
    "    for j in range(11-i):\n",
    "        print(\" \",end=\"\")\n",
    "    for k in range(1,i):\n",
    "        print(f\" {k}\",end=\"\")\n",
    "    print()\n",
    "for i in range(10,0,-1):\n",
    "    for j in range(10-i):\n",
    "        print(\" \",end=\"\")\n",
    "    for k in range(1,i):\n",
    "        print(f\"\",end=\"\")\n",
    "    print()"
   ]
  },
  {
   "cell_type": "code",
   "execution_count": null,
   "id": "5d430c5e",
   "metadata": {},
   "outputs": [],
   "source": [
    "rem=0\n",
    "rev=0\n",
    "data=int(input('Enter the number: '))\n",
    "while(data>0):\n",
    "    rem=data%10\n",
    "    rev=rev*10+rem\n",
    "    data=data//10\n",
    "print(rev)"
   ]
  },
  {
   "cell_type": "code",
   "execution_count": 21,
   "id": "c7b2fd68",
   "metadata": {},
   "outputs": [
    {
     "name": "stdout",
     "output_type": "stream",
     "text": [
      "apbqcr\n",
      "mpnqor\n"
     ]
    }
   ],
   "source": [
    "data=\"abc\"\n",
    "mydata=\"pqr\"\n",
    "# out=\"apbqcr\"\n",
    "def data(data,mydata):\n",
    "    res=data[0]+mydata[0]+data[1]+mydata[1]+data[2]+mydata[2]\n",
    "    return res\n",
    "print(data(\"abc\",\"pqr\"))\n",
    "print(data(\"mno\",\"pqr\"))\n",
    "    "
   ]
  },
  {
   "cell_type": "code",
   "execution_count": 29,
   "id": "8c1c0927",
   "metadata": {},
   "outputs": [
    {
     "name": "stdout",
     "output_type": "stream",
     "text": [
      "apbqrs\n"
     ]
    }
   ],
   "source": [
    "# a = \"ab\", b = \"pqrs\"\n",
    "def mydata(a,b):\n",
    "    res=a[0]+b[0]+a[1]+b[1]+b[2:4]\n",
    "    return res\n",
    "print(mydata(\"ab\",\"pqrs\"))"
   ]
  },
  {
   "cell_type": "code",
   "execution_count": 30,
   "id": "903fb3c1",
   "metadata": {},
   "outputs": [
    {
     "data": {
      "text/plain": [
       "'apbqcd'"
      ]
     },
     "execution_count": 30,
     "metadata": {},
     "output_type": "execute_result"
    }
   ],
   "source": [
    "def greet(a,b):\n",
    "    res=a[0]+b[0]+a[1]+b[1]+a[2:4]\n",
    "    return res\n",
    "greet(\"abcd\",\"pq\")"
   ]
  },
  {
   "cell_type": "code",
   "execution_count": 109,
   "id": "592e53d3",
   "metadata": {},
   "outputs": [
    {
     "name": "stdout",
     "output_type": "stream",
     "text": [
      "['A']\n"
     ]
    }
   ],
   "source": [
    "def common(a,b):\n",
    "    lst=[]\n",
    "    for i in a:\n",
    "        for j in b:\n",
    "            if i==j:\n",
    "                if i not in lst:\n",
    "                    lst.append(i)\n",
    "        return lst\n",
    "print(common(\"ABCABC\",\"ABC\"))"
   ]
  },
  {
   "cell_type": "code",
   "execution_count": 54,
   "id": "864b3db7",
   "metadata": {},
   "outputs": [
    {
     "name": "stdout",
     "output_type": "stream",
     "text": [
      "['A', 'B', 'C']\n"
     ]
    },
    {
     "data": {
      "text/plain": [
       "'ABC'"
      ]
     },
     "execution_count": 54,
     "metadata": {},
     "output_type": "execute_result"
    }
   ],
   "source": [
    "a=\"ABCABC\"\n",
    "b=\"ABC\"\n",
    "lst=[]\n",
    "for i in a:\n",
    "    for j in b:\n",
    "        if i==j:\n",
    "            if i not in lst:\n",
    "                lst.append(i)\n",
    "print(lst)\n",
    "res=\"\".join(lst)\n",
    "res"
   ]
  },
  {
   "cell_type": "code",
   "execution_count": 74,
   "id": "89638c3a",
   "metadata": {},
   "outputs": [
    {
     "name": "stdout",
     "output_type": "stream",
     "text": [
      "ABC\n"
     ]
    }
   ],
   "source": [
    "data=\"ABCABC\"\n",
    "b=\"ABC\"\n",
    "lst=[]\n",
    "for i in data:\n",
    "    for j in b:\n",
    "        if i==j:\n",
    "            if i not in lst:\n",
    "                lst.append(i)\n",
    "print(\"\".join(lst))"
   ]
  },
  {
   "cell_type": "code",
   "execution_count": 72,
   "id": "38176e5d",
   "metadata": {},
   "outputs": [
    {
     "name": "stdout",
     "output_type": "stream",
     "text": [
      "[1, 2, 3, 4, 58, 66]\n"
     ]
    }
   ],
   "source": [
    "data=[1,2,3,3,4,58,66,1,2]\n",
    "lst=[]\n",
    "for i in data:\n",
    "    if i not in lst:\n",
    "        lst.append(i)\n",
    "print(lst)\n",
    "        \n"
   ]
  },
  {
   "cell_type": "code",
   "execution_count": 24,
   "id": "c638a0e7",
   "metadata": {},
   "outputs": [
    {
     "name": "stdout",
     "output_type": "stream",
     "text": [
      "True\n",
      "True\n",
      "True\n",
      "False\n",
      "True\n"
     ]
    }
   ],
   "source": [
    "candies = [2,3,5,1,3]\n",
    "lst=[]\n",
    "data=max(candies)\n",
    "extra=3\n",
    "for i in candies:\n",
    "    if i+extra>=data:\n",
    "        print(True)\n",
    "    else:\n",
    "        print(False)"
   ]
  },
  {
   "cell_type": "code",
   "execution_count": 31,
   "id": "73050ba8",
   "metadata": {},
   "outputs": [
    {
     "name": "stdout",
     "output_type": "stream",
     "text": [
      "[True, False, False, False, False]\n"
     ]
    }
   ],
   "source": [
    "candies = [4,2,1,1,2]\n",
    "extra=1\n",
    "data=max(candies)\n",
    "lst=[]\n",
    "for i in candies:\n",
    "    if i+extra>=data:\n",
    "        lst.append(True)\n",
    "    else:\n",
    "        lst.append(False)\n",
    "print(lst)"
   ]
  },
  {
   "cell_type": "code",
   "execution_count": 39,
   "id": "ffa9ff5d",
   "metadata": {},
   "outputs": [
    {
     "name": "stdout",
     "output_type": "stream",
     "text": [
      "[True, False, True]\n"
     ]
    }
   ],
   "source": [
    "def data(candies, extra):\n",
    "    data = max(candies)\n",
    "    lst = []\n",
    "    for i in candies:\n",
    "        if i + extra >= data:\n",
    "            lst.append(True)\n",
    "        else:\n",
    "            lst.append(False)\n",
    "    return lst\n",
    "\n",
    "candies = [4, 2, 1, 1, 2]\n",
    "extra = 1\n",
    "result = data(candies, extra)\n",
    "print(result)\n",
    "\n",
    "\n",
    "\n"
   ]
  },
  {
   "cell_type": "code",
   "execution_count": 42,
   "id": "064cb26a",
   "metadata": {},
   "outputs": [
    {
     "name": "stdout",
     "output_type": "stream",
     "text": [
      "[True, False, True]\n"
     ]
    }
   ],
   "source": [
    "def great(candies,extra):\n",
    "    lst=[]\n",
    "    data=max(candies)\n",
    "    extra=10\n",
    "    for i in candies:\n",
    "        if i+extra>=data:\n",
    "            lst.append(True)\n",
    "        else:\n",
    "            lst.append(False)\n",
    "    return lst\n",
    "candies = [12,1,12]\n",
    "res=great(candies,extra)\n",
    "print(res)"
   ]
  },
  {
   "cell_type": "code",
   "execution_count": 87,
   "id": "fdc640c6",
   "metadata": {},
   "outputs": [
    {
     "name": "stdout",
     "output_type": "stream",
     "text": [
      "the sky is blue\n"
     ]
    }
   ],
   "source": [
    "s = \"the   sky is blue\"\n",
    "import re\n",
    "patt=\"\\s+\"\n",
    "match=re.sub(patt,\" \",s)\n",
    "print(match)\n",
    "\n",
    "\n"
   ]
  },
  {
   "cell_type": "code",
   "execution_count": 89,
   "id": "6a8c9040",
   "metadata": {},
   "outputs": [
    {
     "name": "stdout",
     "output_type": "stream",
     "text": [
      "15\n",
      "hello world\n",
      "11\n"
     ]
    }
   ],
   "source": [
    "s = \"  hello world  \"\n",
    "print(len(s))\n",
    "data=s.strip()\n",
    "print(data)\n",
    "print(len(data))"
   ]
  },
  {
   "cell_type": "code",
   "execution_count": 93,
   "id": "83494094",
   "metadata": {},
   "outputs": [
    {
     "name": "stdout",
     "output_type": "stream",
     "text": [
      "True\n"
     ]
    }
   ],
   "source": [
    "nums = [1,2,3,4,5]\n",
    "data=nums[0]<nums[1]<nums[2]<nums[3]<nums[4]\n",
    "print(data)\n",
    "    "
   ]
  },
  {
   "cell_type": "code",
   "execution_count": 98,
   "id": "fbecb925",
   "metadata": {},
   "outputs": [
    {
     "name": "stdout",
     "output_type": "stream",
     "text": [
      "{'a': 2, 'b': 2, 'c': 3}\n"
     ]
    }
   ],
   "source": [
    "chars = [\"a\",\"a\",\"b\",\"b\",\"c\",\"c\",\"c\"]\n",
    "dicts={}\n",
    "for i in chars:\n",
    "    dicts[i]=chars.count(i)\n",
    "print(dicts)\n",
    "    "
   ]
  },
  {
   "cell_type": "code",
   "execution_count": 106,
   "id": "27b6330e",
   "metadata": {},
   "outputs": [
    {
     "name": "stdout",
     "output_type": "stream",
     "text": [
      "[('a', 2), ('b', 2), ('c', 3)]\n"
     ]
    }
   ],
   "source": [
    "lst=[]\n",
    "for i in dicts.items():\n",
    "    lst.append(i)\n",
    "print(list(lst))"
   ]
  },
  {
   "cell_type": "code",
   "execution_count": 3,
   "id": "71b87900",
   "metadata": {},
   "outputs": [
    {
     "name": "stdout",
     "output_type": "stream",
     "text": [
      "Enter the number: 121\n",
      "121\n",
      "121\n",
      "it is palidrom number\n"
     ]
    }
   ],
   "source": [
    "# revere number\n",
    "\n",
    "rem=0\n",
    "rev=0\n",
    "data=int(input('Enter the number: '))\n",
    "temp=data\n",
    "while(temp>0):\n",
    "    rem=temp%10\n",
    "    rev=rev*10+rem\n",
    "    temp=temp//10\n",
    "if(data==rev):\n",
    "    print('it is palidrom number')\n",
    "else:\n",
    "    print('not palidroms')"
   ]
  },
  {
   "cell_type": "code",
   "execution_count": 8,
   "id": "0daae79c",
   "metadata": {},
   "outputs": [
    {
     "name": "stdout",
     "output_type": "stream",
     "text": [
      "Enter the number: 153\n",
      "it is not prime number\n"
     ]
    }
   ],
   "source": [
    "data=int(input('Enter the number: '))\n",
    "count=0\n",
    "for i in range(1,data+1):\n",
    "    if(data%i==0):\n",
    "        count+=1\n",
    "if(count==2):\n",
    "    print('it is prime number')\n",
    "else:\n",
    "    print('it is not prime number')\n",
    "        "
   ]
  },
  {
   "cell_type": "code",
   "execution_count": 12,
   "id": "d75320ce",
   "metadata": {},
   "outputs": [
    {
     "name": "stdout",
     "output_type": "stream",
     "text": [
      "Enter the number: my name is deepak sahani\n",
      "the total i is:  2\n"
     ]
    }
   ],
   "source": [
    "data=input('Enter the number: ')\n",
    "count=0\n",
    "for i in data:\n",
    "    if i==\"i\":\n",
    "        count+=1\n",
    "print(\"the total i is: \",count)"
   ]
  },
  {
   "cell_type": "code",
   "execution_count": 2,
   "id": "de2e683d",
   "metadata": {},
   "outputs": [
    {
     "name": "stdout",
     "output_type": "stream",
     "text": [
      "Enter the number: 6\n",
      "21\n"
     ]
    }
   ],
   "source": [
    "data=int(input('Enter the number: '))\n",
    "sums=0\n",
    "for i in range(1,data+1):\n",
    "    sums+=int(i)\n",
    "print(sums)\n",
    "    "
   ]
  },
  {
   "cell_type": "code",
   "execution_count": 6,
   "id": "65809895",
   "metadata": {},
   "outputs": [
    {
     "data": {
      "text/plain": [
       "11"
      ]
     },
     "execution_count": 6,
     "metadata": {},
     "output_type": "execute_result"
    }
   ],
   "source": [
    "def add(a,b):\n",
    "    return (a*b)-(a+b)\n",
    "add(4,5)"
   ]
  },
  {
   "cell_type": "code",
   "execution_count": 14,
   "id": "a39d44a8",
   "metadata": {},
   "outputs": [
    {
     "name": "stdout",
     "output_type": "stream",
     "text": [
      "20\n",
      "36\n",
      "40\n"
     ]
    }
   ],
   "source": [
    "def add(a,b):\n",
    "    data=a*b\n",
    "    return data\n",
    "print(add(4,5))\n",
    "print(add(4,9))\n",
    "print(add(4,10))"
   ]
  },
  {
   "cell_type": "code",
   "execution_count": 19,
   "id": "7bd0dff1",
   "metadata": {},
   "outputs": [
    {
     "data": {
      "text/plain": [
       "'deepak sahani'"
      ]
     },
     "execution_count": 19,
     "metadata": {},
     "output_type": "execute_result"
    }
   ],
   "source": [
    "def data(fname,lastname):\n",
    "    return fname+\" \"+lastname\n",
    "data(\"deepak\",\"sahani\")"
   ]
  },
  {
   "cell_type": "code",
   "execution_count": 35,
   "id": "3836733a",
   "metadata": {},
   "outputs": [
    {
     "name": "stdout",
     "output_type": "stream",
     "text": [
      "deepak sahani mr.deepaksahani@gmail.com\n",
      "2\n"
     ]
    }
   ],
   "source": [
    "lst=[]\n",
    "\n",
    "def coder(fname=\"deepak\",lastname=\"sahani\"):\n",
    "    return fname+\" \"+lastname+\" \"+\"mr.deepaksahani@gmail.com\"\n",
    "data=coder()\n",
    "print(data)\n",
    "count=0\n",
    "for i in data:\n",
    "    if i==\" \":\n",
    "        count+=1\n",
    "print(count)\n"
   ]
  },
  {
   "cell_type": "code",
   "execution_count": 58,
   "id": "b5a90eda",
   "metadata": {},
   "outputs": [
    {
     "name": "stdout",
     "output_type": "stream",
     "text": [
      "1\n",
      "4\n",
      "9\n"
     ]
    }
   ],
   "source": [
    "def square(num):\n",
    "    return num*num\n",
    "for i in [1,2,3]:\n",
    "    data=square(i)\n",
    "    print(data)"
   ]
  },
  {
   "cell_type": "code",
   "execution_count": 83,
   "id": "2c496119",
   "metadata": {},
   "outputs": [
    {
     "name": "stdout",
     "output_type": "stream",
     "text": [
      "deepak\n",
      "dasing desi\n",
      "1\n",
      "2\n",
      "3\n",
      "4\n",
      "5\n",
      "6\n"
     ]
    }
   ],
   "source": [
    "def coders(fname=\"deepak\",lastname=\"dasing desi\"):\n",
    "    print(fname)\n",
    "    print(lastname)\n",
    "    for i in range(1,20):\n",
    "        if i==7:\n",
    "            break\n",
    "        print(i)\n",
    "coders()"
   ]
  },
  {
   "cell_type": "code",
   "execution_count": 95,
   "id": "53e96641",
   "metadata": {},
   "outputs": [
    {
     "data": {
      "text/plain": [
       "5"
      ]
     },
     "execution_count": 95,
     "metadata": {},
     "output_type": "execute_result"
    }
   ],
   "source": [
    "def ktmartial():\n",
    "    count=0\n",
    "    for i in data:\n",
    "        count+=1\n",
    "    return count\n",
    "data=[1,2,3,4,5]\n",
    "ktmartial()"
   ]
  },
  {
   "cell_type": "code",
   "execution_count": 5,
   "id": "fbaf7c5d",
   "metadata": {},
   "outputs": [
    {
     "data": {
      "text/plain": [
       "'deepak'"
      ]
     },
     "execution_count": 5,
     "metadata": {},
     "output_type": "execute_result"
    }
   ],
   "source": [
    "class mom:\n",
    "    def __init__(self,name,lastname):\n",
    "        self.name=name\n",
    "        self.lastname=lastname\n",
    "    \n",
    "a=mom(\"deepak\",\"sahani\")\n",
    "a.name\n"
   ]
  },
  {
   "cell_type": "code",
   "execution_count": 6,
   "id": "3a25fc5b",
   "metadata": {},
   "outputs": [
    {
     "data": {
      "text/plain": [
       "'sahani'"
      ]
     },
     "execution_count": 6,
     "metadata": {},
     "output_type": "execute_result"
    }
   ],
   "source": [
    "a.lastname"
   ]
  },
  {
   "cell_type": "code",
   "execution_count": 34,
   "id": "9533eff3",
   "metadata": {},
   "outputs": [
    {
     "data": {
      "text/plain": [
       "'first name is deepak and lastname is sahani'"
      ]
     },
     "execution_count": 34,
     "metadata": {},
     "output_type": "execute_result"
    }
   ],
   "source": [
    "class father:\n",
    "    def __init__(self,name,lastname):\n",
    "        self.name=name\n",
    "        self.lastname=lastname\n",
    "    def show(self):\n",
    "        return (f\"first name is {self.name} and lastname is {self.lastname}\")\n",
    "a=father(\"deepak\",\"sahani\")\n",
    "a.show()\n"
   ]
  },
  {
   "cell_type": "code",
   "execution_count": 40,
   "id": "3234f5b8",
   "metadata": {},
   "outputs": [
    {
     "data": {
      "text/plain": [
       "'first name is deepak and age is 25 and also lastname sahani'"
      ]
     },
     "execution_count": 40,
     "metadata": {},
     "output_type": "execute_result"
    }
   ],
   "source": [
    "class main:\n",
    "    def __init__(self,age,name,lastname):\n",
    "        self.age=age\n",
    "        self.name=name\n",
    "        self.lastname=lastname\n",
    "    def show(self):\n",
    "        return (f\"first name is {self.name} and age is {self.age} and also lastname {self.lastname}\")\n",
    "    \n",
    "    \n",
    "class data:\n",
    "    def __init__(self,designation,company,salary):\n",
    "        self.designation=designation\n",
    "        self.company=company\n",
    "        self.salary=salary\n",
    "    def show2(self):\n",
    "        return (f\"designation is {self.designation} and company name is {self.company} also {self.salary}\")\n",
    "\n",
    "a=main(25,\"deepak\",\"sahani\")\n",
    "b=data(\"python developer\",\"mnc\",2500)\n",
    "b.show2()\n",
    "a.show()"
   ]
  },
  {
   "cell_type": "code",
   "execution_count": 39,
   "id": "092ee05b",
   "metadata": {},
   "outputs": [
    {
     "data": {
      "text/plain": [
       "'designation is python developer and company name is mnc also 2500'"
      ]
     },
     "execution_count": 39,
     "metadata": {},
     "output_type": "execute_result"
    }
   ],
   "source": [
    "b.show2()"
   ]
  },
  {
   "cell_type": "code",
   "execution_count": 43,
   "id": "24123530",
   "metadata": {},
   "outputs": [
    {
     "name": "stdout",
     "output_type": "stream",
     "text": [
      "my name is deepak sahani\n",
      "good coder\n"
     ]
    }
   ],
   "source": [
    "class A:\n",
    "    def show(self):\n",
    "        print(\"good coder\")\n",
    "class B(A):\n",
    "    def show2(self):\n",
    "        print(\"my name is deepak sahani\")\n",
    "obj=B()\n",
    "obj.show2()\n",
    "obj.show()"
   ]
  },
  {
   "cell_type": "code",
   "execution_count": 44,
   "id": "ac8e7b39",
   "metadata": {},
   "outputs": [
    {
     "data": {
      "text/plain": [
       "'2 and 5'"
      ]
     },
     "execution_count": 44,
     "metadata": {},
     "output_type": "execute_result"
    }
   ],
   "source": [
    "def data(a,b):\n",
    "    print(a)\n",
    "data(2,5)"
   ]
  },
  {
   "cell_type": "code",
   "execution_count": 6,
   "id": "e8951827",
   "metadata": {},
   "outputs": [
    {
     "name": "stdout",
     "output_type": "stream",
     "text": [
      "Enter the number: 4\n",
      "it is note prime number\n"
     ]
    }
   ],
   "source": [
    "n=int(input('Enter the number: '))\n",
    "count=0\n",
    "for i in range(1,n+1):\n",
    "    if(n%i==0):\n",
    "        count+=1\n",
    "if(count==2):\n",
    "    print('it is prime number')\n",
    "else:\n",
    "    print('it is note prime number')"
   ]
  },
  {
   "cell_type": "code",
   "execution_count": 10,
   "id": "3f689e19",
   "metadata": {},
   "outputs": [
    {
     "name": "stdout",
     "output_type": "stream",
     "text": [
      "Enter the number: 2\n",
      "it is prime number\n"
     ]
    }
   ],
   "source": [
    "n=int(input('Enter the number: '))\n",
    "count=0\n",
    "i=1\n",
    "while(n>=i):\n",
    "    if(n%i==0):\n",
    "        count+=1\n",
    "    i+=1\n",
    "if(count==2):\n",
    "    print('it is prime number')\n",
    "else:\n",
    "    print('it is note prime number')"
   ]
  },
  {
   "cell_type": "code",
   "execution_count": 11,
   "id": "994bd024",
   "metadata": {},
   "outputs": [
    {
     "name": "stdout",
     "output_type": "stream",
     "text": [
      "Enter the number: 125\n",
      "it is note palidroms\n"
     ]
    }
   ],
   "source": [
    "# palidrom\n",
    "n=int(input('Enter the number: '))\n",
    "rem=0\n",
    "rev=0\n",
    "temp=n\n",
    "while(temp>0):\n",
    "    rem=temp%10\n",
    "    rev=rev*10+rem\n",
    "    temp=temp//10\n",
    "if(n==rev):\n",
    "    print('it is palidroms')\n",
    "else:\n",
    "    print('it is note palidroms')\n"
   ]
  },
  {
   "cell_type": "code",
   "execution_count": null,
   "id": "51ebecda",
   "metadata": {},
   "outputs": [],
   "source": []
  },
  {
   "cell_type": "code",
   "execution_count": null,
   "id": "b137fc9d",
   "metadata": {},
   "outputs": [],
   "source": [
    "\n"
   ]
  },
  {
   "cell_type": "code",
   "execution_count": null,
   "id": "0f14a1b6",
   "metadata": {},
   "outputs": [],
   "source": []
  }
 ],
 "metadata": {
  "kernelspec": {
   "display_name": "Python 3 (ipykernel)",
   "language": "python",
   "name": "python3"
  },
  "language_info": {
   "codemirror_mode": {
    "name": "ipython",
    "version": 3
   },
   "file_extension": ".py",
   "mimetype": "text/x-python",
   "name": "python",
   "nbconvert_exporter": "python",
   "pygments_lexer": "ipython3",
   "version": "3.11.0"
  }
 },
 "nbformat": 4,
 "nbformat_minor": 5
}
